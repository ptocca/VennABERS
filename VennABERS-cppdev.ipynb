{
 "cells": [
  {
   "cell_type": "markdown",
   "id": "2e1225e7-f999-4a2d-b78f-a2d1d89cb11a",
   "metadata": {},
   "source": [
    "# C++ Implementation of Inductive VennABERS Predictor (IVAP)\n",
    "\n",
    "This is a relatively pedestrian translation in C++ of the Python implementation of the IVAP.\n",
    "\n",
    "This notebook runs under Cern's ROOT environment. In JupyROOT the Python kernel can also JIT compile C++.\n",
    "Also the notebook expects that `libfmt-dev` be installed on the system.\n"
   ]
  },
  {
   "cell_type": "code",
   "execution_count": 1,
   "id": "b4847049-9dbd-4654-bd17-cefd6e4f736d",
   "metadata": {},
   "outputs": [
    {
     "name": "stdout",
     "output_type": "stream",
     "text": [
      "Welcome to JupyROOT 6.30/04\n"
     ]
    }
   ],
   "source": [
    "import ROOT"
   ]
  },
  {
   "cell_type": "code",
   "execution_count": 2,
   "id": "06217ccc-8e04-4ca6-9545-571aa89ed5db",
   "metadata": {},
   "outputs": [],
   "source": [
    "ROOT.gSystem.AddIncludePath(\" -I/usr/local/include/\")"
   ]
  },
  {
   "cell_type": "code",
   "execution_count": 3,
   "id": "11332278-7af0-4f16-b393-4b3ae5bdc60b",
   "metadata": {},
   "outputs": [],
   "source": [
    "%%cpp\n",
    "#include <fmt/core.h>\n",
    "#include <fmt/ranges.h>"
   ]
  },
  {
   "cell_type": "code",
   "execution_count": 4,
   "id": "a1273547-ae92-4b28-98ef-bd3c4d53c406",
   "metadata": {},
   "outputs": [
    {
     "data": {
      "text/plain": [
       "0"
      ]
     },
     "execution_count": 4,
     "metadata": {},
     "output_type": "execute_result"
    }
   ],
   "source": [
    "ROOT.gSystem.Load(\"libfmt.so\")"
   ]
  },
  {
   "cell_type": "code",
   "execution_count": 5,
   "id": "5d1f6e48-4871-44ac-aec6-412005a7c9bc",
   "metadata": {},
   "outputs": [
    {
     "name": "stdout",
     "output_type": "stream",
     "text": [
      "Hello!"
     ]
    }
   ],
   "source": [
    "%%cpp\n",
    "fmt::print(\"Hello!\");"
   ]
  },
  {
   "cell_type": "code",
   "execution_count": 6,
   "id": "7b58c0e3-c27f-4507-862a-629267555bb9",
   "metadata": {},
   "outputs": [],
   "source": [
    "from VennABERS import *"
   ]
  },
  {
   "cell_type": "code",
   "execution_count": 7,
   "id": "5fe670ba-7dce-430e-ad52-331beb60d637",
   "metadata": {},
   "outputs": [],
   "source": [
    "%%cpp\n",
    "#include <vector>\n",
    "#include <map>\n",
    "#include <vector>\n",
    "#include <algorithm>\n",
    "#include <cmath>"
   ]
  },
  {
   "cell_type": "code",
   "execution_count": 8,
   "id": "a6c3f430-0386-40f4-9945-1e3b484aac5f",
   "metadata": {},
   "outputs": [],
   "source": [
    "%%cpp -d\n",
    "using T = double;\n",
    "\n",
    "std::tuple<std::vector<T>, std::vector<int>, std::vector<int>> unique_with_counts_and_inverse(const std::vector<T>& x) {\n",
    "\n",
    "  // Find unique elements and their counts\n",
    "  std::map<T, int> counts;\n",
    "\n",
    "  for (const T& value : x) {\n",
    "    if (auto search=counts.find(value); search != counts.end()) {  \n",
    "      counts[value]++;\n",
    "    } else {\n",
    "      counts[value] = 1;\n",
    "    }\n",
    "  }\n",
    "\n",
    "  std::vector<T> unique;\n",
    "  std::vector<int> counts_vec;\n",
    "  unique.reserve(counts.size());\n",
    "  counts_vec.reserve(counts.size());\n",
    "\n",
    "  std::vector<int> inverse(x.size());\n",
    "\n",
    "  for (const auto& [val,count] : counts) {\n",
    "    unique.push_back(val);\n",
    "    counts_vec.push_back(count);\n",
    "  }\n",
    "\n",
    "  // Find inverse indices\n",
    "  for (int i = 0; i < x.size(); ++i) {\n",
    "    inverse[i] = std::lower_bound(unique.begin(), unique.end(), x[i]) - unique.begin();\n",
    "  }\n",
    "\n",
    "  return std::make_tuple(unique, counts_vec, inverse);\n",
    "}\n"
   ]
  },
  {
   "cell_type": "code",
   "execution_count": 9,
   "id": "99a30c20-573e-4ac3-909b-0a3c0bc7f56f",
   "metadata": {},
   "outputs": [],
   "source": [
    "%%cpp\n",
    "std::vector<double> tv{1.0,3.5,1.0,2.0,4.0,4.0};"
   ]
  },
  {
   "cell_type": "code",
   "execution_count": 10,
   "id": "f6bddb62-8ee9-4c96-bcb2-d5279000e3f0",
   "metadata": {},
   "outputs": [
    {
     "name": "stdout",
     "output_type": "stream",
     "text": [
      "(std::tuple &) { { 1.0000000, 2.0000000, 3.5000000, 4.0000000 }, { 2, 1, 1, 2 }, { 0, 2, 0, 1, 3, 3 } }\n"
     ]
    }
   ],
   "source": [
    "%%cpp\n",
    "std::vector<T> u;\n",
    "std::vector<int> c;\n",
    "std::vector<int> i;\n",
    "std::tie(u,c,i) = unique_with_counts_and_inverse(tv)"
   ]
  },
  {
   "cell_type": "code",
   "execution_count": 11,
   "id": "7ffd5613-5c75-4a6e-bc1e-449a5ddf08f4",
   "metadata": {},
   "outputs": [],
   "source": [
    "%%cpp -d\n",
    "using Point = std::pair<double, double>;\n",
    "\n",
    "Point top(const std::vector<Point>& S) {\n",
    "    return S[S.size()-1];\n",
    "}\n",
    "\n",
    "Point nextToTop(const std::vector<Point>& S) {\n",
    "    return S[S.size()-2];\n",
    "}\n",
    "\n",
    "\n",
    "bool nonLeftTurn(const Point& a, const Point& b, const Point& c) {\n",
    "  double d1x = b.first - a.first, d1y = b.second - a.second;\n",
    "  double d2x = c.first - b.first, d2y = c.second - b.second;\n",
    "  return (d1x * d2y - d1y * d2x) <= 0.0;\n",
    "}\n",
    "\n",
    "bool nonRightTurn(const Point& a, const Point& b, const Point& c) {\n",
    "  return nonLeftTurn(c, b, a); // Equivalent due to reversed order\n",
    "}\n",
    "\n",
    "double slope(const Point& a, const Point& b) {\n",
    "  if (a.first == b.first) {\n",
    "    return std::numeric_limits<double>::infinity(); // Handle vertical lines\n",
    "  }\n",
    "  return (b.second - a.second) / (b.first - a.first);\n",
    "}\n",
    "\n",
    "bool notBelow(const Point& t, const Point& p1, const Point& p2) {\n",
    "  double m = slope(p1, p2);\n",
    "  double b = p2.second - m * p2.first;\n",
    "  return t.second >= m * t.first + b;\n",
    "}"
   ]
  },
  {
   "cell_type": "markdown",
   "id": "1bc4a94e-562c-4e24-87bb-723b8714d4c3",
   "metadata": {},
   "source": [
    "# Algorithm1 and Algorithm2"
   ]
  },
  {
   "cell_type": "code",
   "execution_count": 12,
   "id": "f1e2af46-64d4-450c-bb6c-7861db1119a2",
   "metadata": {},
   "outputs": [],
   "source": [
    "%%cpp -d\n",
    "// We shift all the indices for P and make it a vector\n",
    "std::vector<Point> algorithm1(const std::vector<Point>& P, int kPrime) {\n",
    "  std::vector<Point> S;\n",
    "\n",
    "  // Initialize stack with first two points\n",
    "  S.push_back(P[-1+1]);\n",
    "  S.push_back(P[0+1]);\n",
    "\n",
    "  // Iterate from 1 to kPrime (inclusive)\n",
    "  for (int i = 1; i <= kPrime; ++i) {\n",
    "    while (S.size() > 1 && nonLeftTurn(nextToTop(S), top(S), P[i+1])) {\n",
    "      S.pop_back();\n",
    "    }\n",
    "    S.push_back(P[i+1]);\n",
    "  }\n",
    "\n",
    "  return S;\n",
    "}\n",
    "\n",
    "std::vector<double> algorithm2(std::vector<Point>& P, const std::vector<Point>& S, int kPrime) {\n",
    "  std::vector<Point> Sprime(S.rbegin(), S.rend()); // Reverse stack\n",
    "  std::vector<double> F1(kPrime + 1);\n",
    "\n",
    "  F1[0] = 0.0;\n",
    "  // Iterate from 1 to kPrime (inclusive)\n",
    "  for (int i = 1+1; i <= kPrime+1; ++i) {    // i shifted by 1\n",
    "    F1[i - 1] = slope(top(Sprime), nextToTop(Sprime));\n",
    "    P[i - 1].first  = P[i - 2].first  + P[i].first  - P[i - 1].first;\n",
    "    P[i - 1].second = P[i - 2].second + P[i].second - P[i - 1].second;\n",
    "\n",
    "    if (notBelow(P[i - 1], top(Sprime), nextToTop(Sprime))) {\n",
    "      continue;\n",
    "    }\n",
    "\n",
    "    Sprime.pop_back();\n",
    "    while (Sprime.size() > 1 && nonLeftTurn(P[i - 1], top(Sprime), nextToTop(Sprime))) {\n",
    "      Sprime.pop_back();\n",
    "    }\n",
    "    Sprime.push_back(P[i - 1]);\n",
    "  }\n",
    "  return F1;\n",
    "}"
   ]
  },
  {
   "cell_type": "markdown",
   "id": "df46075f-b164-47c9-ae16-4aa5389c89b8",
   "metadata": {},
   "source": [
    "# Algorithm3 and Algorithm4"
   ]
  },
  {
   "cell_type": "code",
   "execution_count": 13,
   "id": "5414a44a-3a7a-40ca-9da2-08052a908e56",
   "metadata": {},
   "outputs": [],
   "source": [
    "%%cpp -d\n",
    "std::vector<Point> algorithm3(const std::vector<Point>& P, int kPrime) {\n",
    "  std::vector<Point> S;\n",
    "  S.push_back(P[kPrime + 1]); // Push P[kPrime+1] onto the stack (correct starting point)\n",
    "  S.push_back(P[kPrime + 0]);\n",
    "\n",
    "  // Iterate from k'-1 to 0 (inclusive) in descending order\n",
    "  for (int i = kPrime-1; i >= 0; --i) {\n",
    "    while (S.size() > 1 && nonRightTurn(nextToTop(S), top(S), P[i])) {\n",
    "      S.pop_back();\n",
    "    }\n",
    "    S.push_back(P[i]);\n",
    "  }\n",
    "  return S;\n",
    "}\n",
    "\n",
    "\n",
    "std::vector<double> algorithm4(std::vector<Point>& P, const std::vector<Point>& S, int kPrime) {\n",
    "  std::vector<Point> Sprime(S.rbegin(), S.rend()); // Reverse stack\n",
    "  std::vector<double> F0(kPrime + 1);\n",
    "\n",
    "  // Iterate from k' to 1 (inclusive) in descending order\n",
    "  for (int i = kPrime; i >= 1; --i) {\n",
    "    F0[i] = slope(top(Sprime), nextToTop(Sprime));\n",
    "    P[i].first = P[i - 1].first + P[i+1].first - P[i].first;\n",
    "    P[i].second = P[i - 1].second + P[i+1].second - P[i].second;\n",
    "\n",
    "    if (notBelow(P[i], top(Sprime), nextToTop(Sprime))) {\n",
    "      continue;\n",
    "    }\n",
    "\n",
    "    Sprime.pop_back();\n",
    "    while (Sprime.size() > 1 && nonRightTurn(P[i], top(Sprime), nextToTop(Sprime))) {\n",
    "      Sprime.pop_back();\n",
    "    }\n",
    "    Sprime.push_back(P[i]);\n",
    "  }\n",
    "  return F0;\n",
    "}"
   ]
  },
  {
   "cell_type": "markdown",
   "id": "df7f0b40-6289-48e2-ae3c-74c703febb81",
   "metadata": {},
   "source": [
    "# prepareData"
   ]
  },
  {
   "cell_type": "code",
   "execution_count": 14,
   "id": "2a4da7e2-3d96-4287-84bd-48286e7957ec",
   "metadata": {},
   "outputs": [],
   "source": [
    "%%cpp -d\n",
    "std::tuple<std::vector<double>, std::vector<double>, std::vector<double>> \n",
    "prepareData(const std::vector<Point>& calibrPoints) {\n",
    "  // Sort and extract x and y coordinates\n",
    "  std::vector<Point> ptsSorted(calibrPoints);\n",
    "  std::sort(ptsSorted.begin(), ptsSorted.end());\n",
    "\n",
    "  std::vector<double> xs(ptsSorted.size());\n",
    "  std::vector<double> ys(ptsSorted.size());\n",
    "  for (int i = 0; i < ptsSorted.size(); ++i) {\n",
    "    xs[i] = ptsSorted[i].first;\n",
    "    ys[i] = ptsSorted[i].second;\n",
    "  }\n",
    "\n",
    "  // Find unique points and calculate weights and cumulative sums\n",
    "  std::vector<double> ptsUnique;\n",
    "  std::vector<int> ptsInverse;\n",
    "  std::vector<int> w;\n",
    "\n",
    "  std::tie(ptsUnique,w,ptsInverse) = unique_with_counts_and_inverse(xs);\n",
    "\n",
    "  std::vector<double> a(ptsUnique.size());\n",
    "  for (size_t i = 0; i < ptsInverse.size(); ++i) {\n",
    "    a[ptsInverse[i]] += ys[i];\n",
    "  }\n",
    "\n",
    "  std::vector<double> yCsd(a.size());\n",
    "  std::partial_sum(a.begin(), a.end(), yCsd.begin()); // Cumulative sum of yCsd\n",
    "\n",
    "  std::vector<double> xPrime(ptsUnique.size());\n",
    "  std::partial_sum(w.begin(), w.end(), xPrime.begin()); // Cumulative sum of w\n",
    "\n",
    "  return std::make_tuple(std::move(yCsd), std::move(xPrime), std::move(ptsUnique));\n",
    "}\n"
   ]
  },
  {
   "cell_type": "markdown",
   "id": "a675db70-776b-4005-a608-5e72d0de7789",
   "metadata": {},
   "source": [
    "# getFVal"
   ]
  },
  {
   "cell_type": "code",
   "execution_count": 15,
   "id": "8f2ec02e-b395-4e2f-915c-79774f6fa86d",
   "metadata": {},
   "outputs": [],
   "source": [
    "%%cpp -d\n",
    "\n",
    "std::pair< std::vector<double>, std::vector<double> > \n",
    "getFVal(const std::vector<double>& F0, const std::vector<double>& F1,\n",
    "                                 const std::vector<double>& ptsUnique, const std::vector<double>& testObjects) {\n",
    "  std::vector<size_t> pos0(testObjects.size());\n",
    "  std::vector<size_t> pos1(testObjects.size());\n",
    "\n",
    "  // Use std::lower_bound for left-side search\n",
    "  std::transform(testObjects.begin(), testObjects.end(), pos0.begin(),\n",
    "                 [&ptsUnique](double testObject) {\n",
    "                   return std::lower_bound(ptsUnique.begin(), ptsUnique.end(), testObject) - ptsUnique.begin();\n",
    "                 });\n",
    "\n",
    "  // Use std::upper_bound for right-side search, adjusting index for excluding the last element\n",
    "  std::transform(testObjects.begin(), testObjects.end(), pos1.begin(),\n",
    "                 [&ptsUnique](double testObject) {\n",
    "                   return std::upper_bound(ptsUnique.begin(), ptsUnique.end() - 1, testObject) - ptsUnique.begin()+1;\n",
    "                 });\n",
    "\n",
    "  // Extract and return values from F0 and F1 based on positions\n",
    "  std::vector<double> F0_vals(pos0.size());\n",
    "  std::vector<double> F1_vals(pos0.size());\n",
    "  for (size_t i = 0; i < pos0.size(); ++i) {\n",
    "    F0_vals[i] = F0[pos0[i]];\n",
    "    F1_vals[i] = F1[pos1[i]];\n",
    "  }\n",
    "\n",
    "  return std::make_pair(F0_vals, F1_vals);\n",
    "}\n",
    "\n"
   ]
  },
  {
   "cell_type": "markdown",
   "id": "e49f23ea-032e-4afd-922d-3b2f4b2d05ef",
   "metadata": {},
   "source": [
    "# computeF"
   ]
  },
  {
   "cell_type": "code",
   "execution_count": 16,
   "id": "7307b767-df63-40fe-a45d-be0f7893467f",
   "metadata": {},
   "outputs": [],
   "source": [
    "%%cpp -d\n",
    "std::pair<std::vector<double>, std::vector<double>> \n",
    "computeF(const std::vector<double>& xPrime, const std::vector<double>& yCsd) {\n",
    "\n",
    "  auto kPrime = xPrime.size();\n",
    "  \n",
    "  // Create P vector with Point values\n",
    "  std::vector<Point> P(kPrime+2);\n",
    "\n",
    "  P[-1+1] = Point(-1.0, -1.0); // Dummy point for index -1\n",
    "  P[0+1] = Point(0.0, 0.0);\n",
    "  for (int i = 0; i < kPrime; ++i) {\n",
    "    P[i + 2] = Point(xPrime[i], yCsd[i]);\n",
    "  }\n",
    "\n",
    "  // Compute F1 using algorithms 1 and 2\n",
    "  std::vector<Point> S = algorithm1(P, kPrime);\n",
    "  std::vector<double> F1 = algorithm2(P, S, kPrime);\n",
    "\n",
    "  // Update P with dummy point and modified P[kPrime + 1]\n",
    "  P[0] = Point(0.0, 0.0);\n",
    "  for (int i = 0; i < kPrime; ++i) {\n",
    "    P[i + 1] = Point(xPrime[i], yCsd[i]);\n",
    "  }\n",
    "  // P[kPrime + 1] = P[kPrime] + Point(1.0, 0.0); // Adjust based on paper's correction\n",
    "  P[kPrime + 1].first = P[kPrime].first + 1.0;\n",
    "  P[kPrime + 1].second = P[kPrime].second;\n",
    "\n",
    "  // Compute F0 using algorithms 3 and 4\n",
    "  S = algorithm3(P, kPrime);\n",
    "  std::vector<double> F0 = algorithm4(P, S, kPrime);\n",
    "\n",
    "  return std::make_pair(F0, F1);\n",
    "}"
   ]
  },
  {
   "cell_type": "markdown",
   "id": "b3a2c8dd-15a7-441c-ac79-e49429bcf91c",
   "metadata": {},
   "source": [
    "# ScoresToMultiProbs"
   ]
  },
  {
   "cell_type": "code",
   "execution_count": 17,
   "id": "b4322ab7-6f63-4bdd-bcef-070abfb391b2",
   "metadata": {},
   "outputs": [],
   "source": [
    "%%cpp -d\n",
    "std::pair<std::vector<double>, std::vector<double>> \n",
    "ScoresToMultiProbs(const std::vector<Point>& calibrPoints, const std::vector<double>& testObjects) {\n",
    "\n",
    "  std::vector<double> yCsd, xPrime, ptsUnique;\n",
    "  std::tie(yCsd,xPrime,ptsUnique) = prepareData(calibrPoints);\n",
    "\n",
    "  std::vector<double> F0, F1;\n",
    "  std::tie(F0,F1) = computeF(xPrime,yCsd);\n",
    "    \n",
    "  std::vector<double> p0, p1;\n",
    "  std::tie(p0, p1) = getFVal(F0,F1,ptsUnique,testObjects);\n",
    "  return std::make_pair(p0, p1);\n",
    "}"
   ]
  },
  {
   "cell_type": "code",
   "execution_count": 18,
   "id": "9090e0c6-be25-4f79-adb6-b1b01e610702",
   "metadata": {},
   "outputs": [],
   "source": [
    "calibrPoints = [(2.0,0.0),(3.0,1.0),(4.0,0.0),(5.0,0.0),(7.0,1.0),(8.0,1.0)]\n",
    "testObjects = [1.0, 2.5, 7.2]"
   ]
  },
  {
   "cell_type": "code",
   "execution_count": 19,
   "id": "f678b219-6841-4292-871e-3348ddb8f19a",
   "metadata": {},
   "outputs": [],
   "source": [
    "yPrime,yCsd,xPrime,ptsUnique = prepareData(calibrPoints)"
   ]
  },
  {
   "cell_type": "code",
   "execution_count": 20,
   "id": "fdc50d56-8345-42f3-9984-49d0f25c6fc1",
   "metadata": {},
   "outputs": [],
   "source": [
    "res = ROOT.prepareData(calibrPoints)"
   ]
  },
  {
   "cell_type": "code",
   "execution_count": 21,
   "id": "879a6e5c-f374-4399-80ef-dccc7a540b02",
   "metadata": {},
   "outputs": [
    {
     "data": {
      "text/plain": [
       "(vector<double>{ 0.0000000, 1.0000000, 1.0000000, 1.0000000, 2.0000000, 3.0000000 },\n",
       " vector<double>{ 1.0000000, 2.0000000, 3.0000000, 4.0000000, 5.0000000, 6.0000000 },\n",
       " vector<double>{ 2.0000000, 3.0000000, 4.0000000, 5.0000000, 7.0000000, 8.0000000 })"
      ]
     },
     "execution_count": 21,
     "metadata": {},
     "output_type": "execute_result"
    }
   ],
   "source": [
    "yCsd_c,xPrime_c,ptsUnique_c = res\n",
    "yCsd_c,xPrime_c,ptsUnique_c"
   ]
  },
  {
   "cell_type": "code",
   "execution_count": 22,
   "id": "03d7fbfa-41bf-4826-abf5-532b53a5c835",
   "metadata": {},
   "outputs": [
    {
     "name": "stdout",
     "output_type": "stream",
     "text": [
      "[-1 -1] [0 0] [1. 0.]\n",
      "[-1 -1] [1. 0.] [2. 1.]\n",
      "[1. 0.] [2. 1.] [3. 1.]\n",
      "[-1 -1] [3. 1.] [4. 1.]\n",
      "[-1 -1] [4. 1.] [5. 2.]\n",
      "[4. 1.] [5. 2.] [6. 3.]\n",
      "Pop!\n",
      "Push!\n",
      "Pop!\n",
      "Push!\n",
      "Push!\n",
      "Pop!\n",
      "Push!\n",
      "Pop!\n",
      "Push!\n",
      "Push!\n",
      "Algo 1 S: [array([7., 3.]), array([4., 1.]), array([1., 0.]), array([0, 0])]\n",
      "F0:  [ 0.         -0.          0.25        0.25        0.25        0.5\n",
      "  0.66666667]\n"
     ]
    },
    {
     "data": {
      "text/plain": [
       "(array([ 0. , -0. ,  0.5]), array([0.4, 0.5, 1. ]))"
      ]
     },
     "execution_count": 22,
     "metadata": {},
     "output_type": "execute_result"
    }
   ],
   "source": [
    "ScoresToMultiProbs(calibrPoints, testObjects)"
   ]
  },
  {
   "cell_type": "code",
   "execution_count": 23,
   "id": "f215c916-d983-4435-a1c6-97d4c822fb0b",
   "metadata": {},
   "outputs": [],
   "source": [
    "p0,p1 = ROOT.ScoresToMultiProbs(calibrPoints, testObjects)"
   ]
  },
  {
   "cell_type": "code",
   "execution_count": 24,
   "id": "bb817dfe-84e4-4dce-8fdf-8dc9f6e66ddd",
   "metadata": {},
   "outputs": [
    {
     "data": {
      "text/plain": [
       "(vector<double>{ 0.0000000, -0.0000000, 0.50000000 },\n",
       " vector<double>{ 0.40000000, 0.50000000, 1.0000000 })"
      ]
     },
     "execution_count": 24,
     "metadata": {},
     "output_type": "execute_result"
    }
   ],
   "source": [
    "p0, p1"
   ]
  },
  {
   "cell_type": "code",
   "execution_count": null,
   "id": "f46ed7c9-b394-43ab-a7e9-844de8403f69",
   "metadata": {},
   "outputs": [],
   "source": []
  }
 ],
 "metadata": {
  "kernelspec": {
   "display_name": "Python 3 (ipykernel)",
   "language": "python",
   "name": "python3"
  },
  "language_info": {
   "codemirror_mode": {
    "name": "ipython",
    "version": 3
   },
   "file_extension": ".py",
   "mimetype": "text/x-python",
   "name": "python",
   "nbconvert_exporter": "python",
   "pygments_lexer": "ipython3",
   "version": "3.10.12"
  }
 },
 "nbformat": 4,
 "nbformat_minor": 5
}
