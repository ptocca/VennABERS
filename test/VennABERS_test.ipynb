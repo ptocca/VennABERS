{
 "cells": [
  {
   "cell_type": "markdown",
   "metadata": {},
   "source": [
    "# Test of VennABERS fast implementation\n",
    "\n",
    "The notebook documents a test on the VennABERS implementation.\n",
    "\n",
    "The correctness is tested against the slower implementation of Venn-ABERS predictors as per the definition."
   ]
  },
  {
   "cell_type": "code",
   "execution_count": 1,
   "metadata": {},
   "outputs": [],
   "source": [
    "#!pip install bokeh"
   ]
  },
  {
   "cell_type": "code",
   "execution_count": 2,
   "metadata": {
    "ExecuteTime": {
     "end_time": "2020-07-09T17:31:25.395925Z",
     "start_time": "2020-07-09T17:31:25.345564Z"
    }
   },
   "outputs": [],
   "source": [
    "import numpy as np"
   ]
  },
  {
   "cell_type": "code",
   "execution_count": 3,
   "metadata": {
    "ExecuteTime": {
     "end_time": "2020-07-09T17:31:25.657895Z",
     "start_time": "2020-07-09T17:31:25.397149Z"
    }
   },
   "outputs": [],
   "source": [
    "from bokeh.plotting import figure, show\n",
    "from bokeh.io import output_notebook"
   ]
  },
  {
   "cell_type": "code",
   "execution_count": 4,
   "metadata": {
    "ExecuteTime": {
     "end_time": "2020-07-09T17:31:25.664465Z",
     "start_time": "2020-07-09T17:31:25.659249Z"
    }
   },
   "outputs": [
    {
     "data": {
      "text/html": [
       "    <style>\n",
       "        .bk-notebook-logo {\n",
       "            display: block;\n",
       "            width: 20px;\n",
       "            height: 20px;\n",
       "            background-image: url(data:image/png;base64,iVBORw0KGgoAAAANSUhEUgAAABQAAAAUCAYAAACNiR0NAAAABHNCSVQICAgIfAhkiAAAAAlwSFlzAAALEgAACxIB0t1+/AAAABx0RVh0U29mdHdhcmUAQWRvYmUgRmlyZXdvcmtzIENTNui8sowAAAOkSURBVDiNjZRtaJVlGMd/1/08zzln5zjP1LWcU9N0NkN8m2CYjpgQYQXqSs0I84OLIC0hkEKoPtiH3gmKoiJDU7QpLgoLjLIQCpEsNJ1vqUOdO7ppbuec5+V+rj4ctwzd8IIbbi6u+8f1539dt3A78eXC7QizUF7gyV1fD1Yqg4JWz84yffhm0qkFqBogB9rM8tZdtwVsPUhWhGcFJngGeWrPzHm5oaMmkfEg1usvLFyc8jLRqDOMru7AyC8saQr7GG7f5fvDeH7Ej8CM66nIF+8yngt6HWaKh7k49Soy9nXurCi1o3qUbS3zWfrYeQDTB/Qj6kX6Ybhw4B+bOYoLKCC9H3Nu/leUTZ1JdRWkkn2ldcCamzrcf47KKXdAJllSlxAOkRgyHsGC/zRday5Qld9DyoM4/q/rUoy/CXh3jzOu3bHUVZeU+DEn8FInkPBFlu3+nW3Nw0mk6vCDiWg8CeJaxEwuHS3+z5RgY+YBR6V1Z1nxSOfoaPa4LASWxxdNp+VWTk7+4vzaou8v8PN+xo+KY2xsw6une2frhw05CTYOmQvsEhjhWjn0bmXPjpE1+kplmmkP3suftwTubK9Vq22qKmrBhpY4jvd5afdRA3wGjFAgcnTK2s4hY0/GPNIb0nErGMCRxWOOX64Z8RAC4oCXdklmEvcL8o0BfkNK4lUg9HTl+oPlQxdNo3Mg4Nv175e/1LDGzZen30MEjRUtmXSfiTVu1kK8W4txyV6BMKlbgk3lMwYCiusNy9fVfvvwMxv8Ynl6vxoByANLTWplvuj/nF9m2+PDtt1eiHPBr1oIfhCChQMBw6Aw0UulqTKZdfVvfG7VcfIqLG9bcldL/+pdWTLxLUy8Qq38heUIjh4XlzZxzQm19lLFlr8vdQ97rjZVOLf8nclzckbcD4wxXMidpX30sFd37Fv/GtwwhzhxGVAprjbg0gCAEeIgwCZyTV2Z1REEW8O4py0wsjeloKoMr6iCY6dP92H6Vw/oTyICIthibxjm/DfN9lVz8IqtqKYLUXfoKVMVQVVJOElGjrnnUt9T9wbgp8AyYKaGlqingHZU/uG2NTZSVqwHQTWkx9hxjkpWDaCg6Ckj5qebgBVbT3V3NNXMSiWSDdGV3hrtzla7J+duwPOToIg42ChPQOQjspnSlp1V+Gjdged7+8UN5CRAV7a5EdFNwCjEaBR27b3W890TE7g24NAP/mMDXRWrGoFPQI9ls/MWO2dWFAar/xcOIImbbpA3zgAAAABJRU5ErkJggg==);\n",
       "        }\n",
       "    </style>\n",
       "    <div>\n",
       "        <a href=\"https://bokeh.org\" target=\"_blank\" class=\"bk-notebook-logo\"></a>\n",
       "        <span id=\"dd9db2cb-e413-40ca-89e6-3dad73731524\">Loading BokehJS ...</span>\n",
       "    </div>\n"
      ]
     },
     "metadata": {},
     "output_type": "display_data"
    },
    {
     "data": {
      "application/javascript": [
       "(function(root) {\n",
       "  function now() {\n",
       "    return new Date();\n",
       "  }\n",
       "\n",
       "  const force = true;\n",
       "\n",
       "  if (typeof root._bokeh_onload_callbacks === \"undefined\" || force === true) {\n",
       "    root._bokeh_onload_callbacks = [];\n",
       "    root._bokeh_is_loading = undefined;\n",
       "  }\n",
       "\n",
       "const JS_MIME_TYPE = 'application/javascript';\n",
       "  const HTML_MIME_TYPE = 'text/html';\n",
       "  const EXEC_MIME_TYPE = 'application/vnd.bokehjs_exec.v0+json';\n",
       "  const CLASS_NAME = 'output_bokeh rendered_html';\n",
       "\n",
       "  /**\n",
       "   * Render data to the DOM node\n",
       "   */\n",
       "  function render(props, node) {\n",
       "    const script = document.createElement(\"script\");\n",
       "    node.appendChild(script);\n",
       "  }\n",
       "\n",
       "  /**\n",
       "   * Handle when an output is cleared or removed\n",
       "   */\n",
       "  function handleClearOutput(event, handle) {\n",
       "    function drop(id) {\n",
       "      const view = Bokeh.index.get_by_id(id)\n",
       "      if (view != null) {\n",
       "        view.model.document.clear()\n",
       "        Bokeh.index.delete(view)\n",
       "      }\n",
       "    }\n",
       "\n",
       "    const cell = handle.cell;\n",
       "\n",
       "    const id = cell.output_area._bokeh_element_id;\n",
       "    const server_id = cell.output_area._bokeh_server_id;\n",
       "\n",
       "    // Clean up Bokeh references\n",
       "    if (id != null) {\n",
       "      drop(id)\n",
       "    }\n",
       "\n",
       "    if (server_id !== undefined) {\n",
       "      // Clean up Bokeh references\n",
       "      const cmd_clean = \"from bokeh.io.state import curstate; print(curstate().uuid_to_server['\" + server_id + \"'].get_sessions()[0].document.roots[0]._id)\";\n",
       "      cell.notebook.kernel.execute(cmd_clean, {\n",
       "        iopub: {\n",
       "          output: function(msg) {\n",
       "            const id = msg.content.text.trim()\n",
       "            drop(id)\n",
       "          }\n",
       "        }\n",
       "      });\n",
       "      // Destroy server and session\n",
       "      const cmd_destroy = \"import bokeh.io.notebook as ion; ion.destroy_server('\" + server_id + \"')\";\n",
       "      cell.notebook.kernel.execute(cmd_destroy);\n",
       "    }\n",
       "  }\n",
       "\n",
       "  /**\n",
       "   * Handle when a new output is added\n",
       "   */\n",
       "  function handleAddOutput(event, handle) {\n",
       "    const output_area = handle.output_area;\n",
       "    const output = handle.output;\n",
       "\n",
       "    // limit handleAddOutput to display_data with EXEC_MIME_TYPE content only\n",
       "    if ((output.output_type != \"display_data\") || (!Object.prototype.hasOwnProperty.call(output.data, EXEC_MIME_TYPE))) {\n",
       "      return\n",
       "    }\n",
       "\n",
       "    const toinsert = output_area.element.find(\".\" + CLASS_NAME.split(' ')[0]);\n",
       "\n",
       "    if (output.metadata[EXEC_MIME_TYPE][\"id\"] !== undefined) {\n",
       "      toinsert[toinsert.length - 1].firstChild.textContent = output.data[JS_MIME_TYPE];\n",
       "      // store reference to embed id on output_area\n",
       "      output_area._bokeh_element_id = output.metadata[EXEC_MIME_TYPE][\"id\"];\n",
       "    }\n",
       "    if (output.metadata[EXEC_MIME_TYPE][\"server_id\"] !== undefined) {\n",
       "      const bk_div = document.createElement(\"div\");\n",
       "      bk_div.innerHTML = output.data[HTML_MIME_TYPE];\n",
       "      const script_attrs = bk_div.children[0].attributes;\n",
       "      for (let i = 0; i < script_attrs.length; i++) {\n",
       "        toinsert[toinsert.length - 1].firstChild.setAttribute(script_attrs[i].name, script_attrs[i].value);\n",
       "        toinsert[toinsert.length - 1].firstChild.textContent = bk_div.children[0].textContent\n",
       "      }\n",
       "      // store reference to server id on output_area\n",
       "      output_area._bokeh_server_id = output.metadata[EXEC_MIME_TYPE][\"server_id\"];\n",
       "    }\n",
       "  }\n",
       "\n",
       "  function register_renderer(events, OutputArea) {\n",
       "\n",
       "    function append_mime(data, metadata, element) {\n",
       "      // create a DOM node to render to\n",
       "      const toinsert = this.create_output_subarea(\n",
       "        metadata,\n",
       "        CLASS_NAME,\n",
       "        EXEC_MIME_TYPE\n",
       "      );\n",
       "      this.keyboard_manager.register_events(toinsert);\n",
       "      // Render to node\n",
       "      const props = {data: data, metadata: metadata[EXEC_MIME_TYPE]};\n",
       "      render(props, toinsert[toinsert.length - 1]);\n",
       "      element.append(toinsert);\n",
       "      return toinsert\n",
       "    }\n",
       "\n",
       "    /* Handle when an output is cleared or removed */\n",
       "    events.on('clear_output.CodeCell', handleClearOutput);\n",
       "    events.on('delete.Cell', handleClearOutput);\n",
       "\n",
       "    /* Handle when a new output is added */\n",
       "    events.on('output_added.OutputArea', handleAddOutput);\n",
       "\n",
       "    /**\n",
       "     * Register the mime type and append_mime function with output_area\n",
       "     */\n",
       "    OutputArea.prototype.register_mime_type(EXEC_MIME_TYPE, append_mime, {\n",
       "      /* Is output safe? */\n",
       "      safe: true,\n",
       "      /* Index of renderer in `output_area.display_order` */\n",
       "      index: 0\n",
       "    });\n",
       "  }\n",
       "\n",
       "  // register the mime type if in Jupyter Notebook environment and previously unregistered\n",
       "  if (root.Jupyter !== undefined) {\n",
       "    const events = require('base/js/events');\n",
       "    const OutputArea = require('notebook/js/outputarea').OutputArea;\n",
       "\n",
       "    if (OutputArea.prototype.mime_types().indexOf(EXEC_MIME_TYPE) == -1) {\n",
       "      register_renderer(events, OutputArea);\n",
       "    }\n",
       "  }\n",
       "  if (typeof (root._bokeh_timeout) === \"undefined\" || force === true) {\n",
       "    root._bokeh_timeout = Date.now() + 5000;\n",
       "    root._bokeh_failed_load = false;\n",
       "  }\n",
       "\n",
       "  const NB_LOAD_WARNING = {'data': {'text/html':\n",
       "     \"<div style='background-color: #fdd'>\\n\"+\n",
       "     \"<p>\\n\"+\n",
       "     \"BokehJS does not appear to have successfully loaded. If loading BokehJS from CDN, this \\n\"+\n",
       "     \"may be due to a slow or bad network connection. Possible fixes:\\n\"+\n",
       "     \"</p>\\n\"+\n",
       "     \"<ul>\\n\"+\n",
       "     \"<li>re-rerun `output_notebook()` to attempt to load from CDN again, or</li>\\n\"+\n",
       "     \"<li>use INLINE resources instead, as so:</li>\\n\"+\n",
       "     \"</ul>\\n\"+\n",
       "     \"<code>\\n\"+\n",
       "     \"from bokeh.resources import INLINE\\n\"+\n",
       "     \"output_notebook(resources=INLINE)\\n\"+\n",
       "     \"</code>\\n\"+\n",
       "     \"</div>\"}};\n",
       "\n",
       "  function display_loaded() {\n",
       "    const el = document.getElementById(\"dd9db2cb-e413-40ca-89e6-3dad73731524\");\n",
       "    if (el != null) {\n",
       "      el.textContent = \"BokehJS is loading...\";\n",
       "    }\n",
       "    if (root.Bokeh !== undefined) {\n",
       "      if (el != null) {\n",
       "        el.textContent = \"BokehJS \" + root.Bokeh.version + \" successfully loaded.\";\n",
       "      }\n",
       "    } else if (Date.now() < root._bokeh_timeout) {\n",
       "      setTimeout(display_loaded, 100)\n",
       "    }\n",
       "  }\n",
       "\n",
       "  function run_callbacks() {\n",
       "    try {\n",
       "      root._bokeh_onload_callbacks.forEach(function(callback) {\n",
       "        if (callback != null)\n",
       "          callback();\n",
       "      });\n",
       "    } finally {\n",
       "      delete root._bokeh_onload_callbacks\n",
       "    }\n",
       "    console.debug(\"Bokeh: all callbacks have finished\");\n",
       "  }\n",
       "\n",
       "  function load_libs(css_urls, js_urls, callback) {\n",
       "    if (css_urls == null) css_urls = [];\n",
       "    if (js_urls == null) js_urls = [];\n",
       "\n",
       "    root._bokeh_onload_callbacks.push(callback);\n",
       "    if (root._bokeh_is_loading > 0) {\n",
       "      console.debug(\"Bokeh: BokehJS is being loaded, scheduling callback at\", now());\n",
       "      return null;\n",
       "    }\n",
       "    if (js_urls == null || js_urls.length === 0) {\n",
       "      run_callbacks();\n",
       "      return null;\n",
       "    }\n",
       "    console.debug(\"Bokeh: BokehJS not loaded, scheduling load and callback at\", now());\n",
       "    root._bokeh_is_loading = css_urls.length + js_urls.length;\n",
       "\n",
       "    function on_load() {\n",
       "      root._bokeh_is_loading--;\n",
       "      if (root._bokeh_is_loading === 0) {\n",
       "        console.debug(\"Bokeh: all BokehJS libraries/stylesheets loaded\");\n",
       "        run_callbacks()\n",
       "      }\n",
       "    }\n",
       "\n",
       "    function on_error(url) {\n",
       "      console.error(\"failed to load \" + url);\n",
       "    }\n",
       "\n",
       "    for (let i = 0; i < css_urls.length; i++) {\n",
       "      const url = css_urls[i];\n",
       "      const element = document.createElement(\"link\");\n",
       "      element.onload = on_load;\n",
       "      element.onerror = on_error.bind(null, url);\n",
       "      element.rel = \"stylesheet\";\n",
       "      element.type = \"text/css\";\n",
       "      element.href = url;\n",
       "      console.debug(\"Bokeh: injecting link tag for BokehJS stylesheet: \", url);\n",
       "      document.body.appendChild(element);\n",
       "    }\n",
       "\n",
       "    for (let i = 0; i < js_urls.length; i++) {\n",
       "      const url = js_urls[i];\n",
       "      const element = document.createElement('script');\n",
       "      element.onload = on_load;\n",
       "      element.onerror = on_error.bind(null, url);\n",
       "      element.async = false;\n",
       "      element.src = url;\n",
       "      console.debug(\"Bokeh: injecting script tag for BokehJS library: \", url);\n",
       "      document.head.appendChild(element);\n",
       "    }\n",
       "  };\n",
       "\n",
       "  function inject_raw_css(css) {\n",
       "    const element = document.createElement(\"style\");\n",
       "    element.appendChild(document.createTextNode(css));\n",
       "    document.body.appendChild(element);\n",
       "  }\n",
       "\n",
       "  const js_urls = [\"https://cdn.bokeh.org/bokeh/release/bokeh-3.3.4.min.js\", \"https://cdn.bokeh.org/bokeh/release/bokeh-gl-3.3.4.min.js\", \"https://cdn.bokeh.org/bokeh/release/bokeh-widgets-3.3.4.min.js\", \"https://cdn.bokeh.org/bokeh/release/bokeh-tables-3.3.4.min.js\", \"https://cdn.bokeh.org/bokeh/release/bokeh-mathjax-3.3.4.min.js\"];\n",
       "  const css_urls = [];\n",
       "\n",
       "  const inline_js = [    function(Bokeh) {\n",
       "      Bokeh.set_log_level(\"info\");\n",
       "    },\n",
       "function(Bokeh) {\n",
       "    }\n",
       "  ];\n",
       "\n",
       "  function run_inline_js() {\n",
       "    if (root.Bokeh !== undefined || force === true) {\n",
       "          for (let i = 0; i < inline_js.length; i++) {\n",
       "      inline_js[i].call(root, root.Bokeh);\n",
       "    }\n",
       "if (force === true) {\n",
       "        display_loaded();\n",
       "      }} else if (Date.now() < root._bokeh_timeout) {\n",
       "      setTimeout(run_inline_js, 100);\n",
       "    } else if (!root._bokeh_failed_load) {\n",
       "      console.log(\"Bokeh: BokehJS failed to load within specified timeout.\");\n",
       "      root._bokeh_failed_load = true;\n",
       "    } else if (force !== true) {\n",
       "      const cell = $(document.getElementById(\"dd9db2cb-e413-40ca-89e6-3dad73731524\")).parents('.cell').data().cell;\n",
       "      cell.output_area.append_execute_result(NB_LOAD_WARNING)\n",
       "    }\n",
       "  }\n",
       "\n",
       "  if (root._bokeh_is_loading === 0) {\n",
       "    console.debug(\"Bokeh: BokehJS loaded, going straight to plotting\");\n",
       "    run_inline_js();\n",
       "  } else {\n",
       "    load_libs(css_urls, js_urls, function() {\n",
       "      console.debug(\"Bokeh: BokehJS plotting callback run at\", now());\n",
       "      run_inline_js();\n",
       "    });\n",
       "  }\n",
       "}(window));"
      ],
      "application/vnd.bokehjs_load.v0+json": "(function(root) {\n  function now() {\n    return new Date();\n  }\n\n  const force = true;\n\n  if (typeof root._bokeh_onload_callbacks === \"undefined\" || force === true) {\n    root._bokeh_onload_callbacks = [];\n    root._bokeh_is_loading = undefined;\n  }\n\n\n  if (typeof (root._bokeh_timeout) === \"undefined\" || force === true) {\n    root._bokeh_timeout = Date.now() + 5000;\n    root._bokeh_failed_load = false;\n  }\n\n  const NB_LOAD_WARNING = {'data': {'text/html':\n     \"<div style='background-color: #fdd'>\\n\"+\n     \"<p>\\n\"+\n     \"BokehJS does not appear to have successfully loaded. If loading BokehJS from CDN, this \\n\"+\n     \"may be due to a slow or bad network connection. Possible fixes:\\n\"+\n     \"</p>\\n\"+\n     \"<ul>\\n\"+\n     \"<li>re-rerun `output_notebook()` to attempt to load from CDN again, or</li>\\n\"+\n     \"<li>use INLINE resources instead, as so:</li>\\n\"+\n     \"</ul>\\n\"+\n     \"<code>\\n\"+\n     \"from bokeh.resources import INLINE\\n\"+\n     \"output_notebook(resources=INLINE)\\n\"+\n     \"</code>\\n\"+\n     \"</div>\"}};\n\n  function display_loaded() {\n    const el = document.getElementById(\"dd9db2cb-e413-40ca-89e6-3dad73731524\");\n    if (el != null) {\n      el.textContent = \"BokehJS is loading...\";\n    }\n    if (root.Bokeh !== undefined) {\n      if (el != null) {\n        el.textContent = \"BokehJS \" + root.Bokeh.version + \" successfully loaded.\";\n      }\n    } else if (Date.now() < root._bokeh_timeout) {\n      setTimeout(display_loaded, 100)\n    }\n  }\n\n  function run_callbacks() {\n    try {\n      root._bokeh_onload_callbacks.forEach(function(callback) {\n        if (callback != null)\n          callback();\n      });\n    } finally {\n      delete root._bokeh_onload_callbacks\n    }\n    console.debug(\"Bokeh: all callbacks have finished\");\n  }\n\n  function load_libs(css_urls, js_urls, callback) {\n    if (css_urls == null) css_urls = [];\n    if (js_urls == null) js_urls = [];\n\n    root._bokeh_onload_callbacks.push(callback);\n    if (root._bokeh_is_loading > 0) {\n      console.debug(\"Bokeh: BokehJS is being loaded, scheduling callback at\", now());\n      return null;\n    }\n    if (js_urls == null || js_urls.length === 0) {\n      run_callbacks();\n      return null;\n    }\n    console.debug(\"Bokeh: BokehJS not loaded, scheduling load and callback at\", now());\n    root._bokeh_is_loading = css_urls.length + js_urls.length;\n\n    function on_load() {\n      root._bokeh_is_loading--;\n      if (root._bokeh_is_loading === 0) {\n        console.debug(\"Bokeh: all BokehJS libraries/stylesheets loaded\");\n        run_callbacks()\n      }\n    }\n\n    function on_error(url) {\n      console.error(\"failed to load \" + url);\n    }\n\n    for (let i = 0; i < css_urls.length; i++) {\n      const url = css_urls[i];\n      const element = document.createElement(\"link\");\n      element.onload = on_load;\n      element.onerror = on_error.bind(null, url);\n      element.rel = \"stylesheet\";\n      element.type = \"text/css\";\n      element.href = url;\n      console.debug(\"Bokeh: injecting link tag for BokehJS stylesheet: \", url);\n      document.body.appendChild(element);\n    }\n\n    for (let i = 0; i < js_urls.length; i++) {\n      const url = js_urls[i];\n      const element = document.createElement('script');\n      element.onload = on_load;\n      element.onerror = on_error.bind(null, url);\n      element.async = false;\n      element.src = url;\n      console.debug(\"Bokeh: injecting script tag for BokehJS library: \", url);\n      document.head.appendChild(element);\n    }\n  };\n\n  function inject_raw_css(css) {\n    const element = document.createElement(\"style\");\n    element.appendChild(document.createTextNode(css));\n    document.body.appendChild(element);\n  }\n\n  const js_urls = [\"https://cdn.bokeh.org/bokeh/release/bokeh-3.3.4.min.js\", \"https://cdn.bokeh.org/bokeh/release/bokeh-gl-3.3.4.min.js\", \"https://cdn.bokeh.org/bokeh/release/bokeh-widgets-3.3.4.min.js\", \"https://cdn.bokeh.org/bokeh/release/bokeh-tables-3.3.4.min.js\", \"https://cdn.bokeh.org/bokeh/release/bokeh-mathjax-3.3.4.min.js\"];\n  const css_urls = [];\n\n  const inline_js = [    function(Bokeh) {\n      Bokeh.set_log_level(\"info\");\n    },\nfunction(Bokeh) {\n    }\n  ];\n\n  function run_inline_js() {\n    if (root.Bokeh !== undefined || force === true) {\n          for (let i = 0; i < inline_js.length; i++) {\n      inline_js[i].call(root, root.Bokeh);\n    }\nif (force === true) {\n        display_loaded();\n      }} else if (Date.now() < root._bokeh_timeout) {\n      setTimeout(run_inline_js, 100);\n    } else if (!root._bokeh_failed_load) {\n      console.log(\"Bokeh: BokehJS failed to load within specified timeout.\");\n      root._bokeh_failed_load = true;\n    } else if (force !== true) {\n      const cell = $(document.getElementById(\"dd9db2cb-e413-40ca-89e6-3dad73731524\")).parents('.cell').data().cell;\n      cell.output_area.append_execute_result(NB_LOAD_WARNING)\n    }\n  }\n\n  if (root._bokeh_is_loading === 0) {\n    console.debug(\"Bokeh: BokehJS loaded, going straight to plotting\");\n    run_inline_js();\n  } else {\n    load_libs(css_urls, js_urls, function() {\n      console.debug(\"Bokeh: BokehJS plotting callback run at\", now());\n      run_inline_js();\n    });\n  }\n}(window));"
     },
     "metadata": {},
     "output_type": "display_data"
    }
   ],
   "source": [
    "output_notebook()"
   ]
  },
  {
   "cell_type": "code",
   "execution_count": 5,
   "metadata": {
    "ExecuteTime": {
     "end_time": "2020-07-09T17:31:25.671588Z",
     "start_time": "2020-07-09T17:31:25.665871Z"
    }
   },
   "outputs": [],
   "source": [
    "np.random.seed(0)"
   ]
  },
  {
   "cell_type": "code",
   "execution_count": 6,
   "metadata": {
    "ExecuteTime": {
     "end_time": "2020-07-09T17:31:25.680448Z",
     "start_time": "2020-07-09T17:31:25.673202Z"
    }
   },
   "outputs": [],
   "source": [
    "def sigmoid(x):\n",
    "    return np.exp(-np.logaddexp(0,-x))\n",
    "\n",
    "def thr(xs):\n",
    "    return 0.5*(sigmoid((xs+4))+sigmoid(4*(xs-4)))\n",
    "\n",
    "def classAssignment(xs):\n",
    "    global thr\n",
    "    u = np.random.random(size=xs.shape[0])\n",
    "    ys = u<thr(xs)\n",
    "    return ys"
   ]
  },
  {
   "cell_type": "code",
   "execution_count": 7,
   "metadata": {
    "ExecuteTime": {
     "end_time": "2020-07-09T17:31:25.689384Z",
     "start_time": "2020-07-09T17:31:25.681629Z"
    }
   },
   "outputs": [],
   "source": [
    "xs = np.linspace(-10,10,1000)\n",
    "ys = classAssignment(xs)"
   ]
  },
  {
   "cell_type": "code",
   "execution_count": 8,
   "metadata": {
    "ExecuteTime": {
     "end_time": "2020-07-09T17:31:25.721571Z",
     "start_time": "2020-07-09T17:31:25.690423Z"
    }
   },
   "outputs": [
    {
     "data": {
      "text/html": [
       "\n",
       "  <div id=\"d1ac9663-b1bc-414a-8802-38b87ca63309\" data-root-id=\"p1001\" style=\"display: contents;\"></div>\n"
      ]
     },
     "metadata": {},
     "output_type": "display_data"
    },
    {
     "data": {
      "application/javascript": [
       "(function(root) {\n",
       "  function embed_document(root) {\n",
       "  const docs_json = {\"7e031a7a-73bf-47d5-8d4e-9a862a02e1cc\":{\"version\":\"3.3.4\",\"title\":\"Bokeh Application\",\"roots\":[{\"type\":\"object\",\"name\":\"Figure\",\"id\":\"p1001\",\"attributes\":{\"x_range\":{\"type\":\"object\",\"name\":\"DataRange1d\",\"id\":\"p1002\"},\"y_range\":{\"type\":\"object\",\"name\":\"DataRange1d\",\"id\":\"p1003\"},\"x_scale\":{\"type\":\"object\",\"name\":\"LinearScale\",\"id\":\"p1010\"},\"y_scale\":{\"type\":\"object\",\"name\":\"LinearScale\",\"id\":\"p1011\"},\"title\":{\"type\":\"object\",\"name\":\"Title\",\"id\":\"p1008\"},\"renderers\":[{\"type\":\"object\",\"name\":\"GlyphRenderer\",\"id\":\"p1039\",\"attributes\":{\"data_source\":{\"type\":\"object\",\"name\":\"ColumnDataSource\",\"id\":\"p1033\",\"attributes\":{\"selected\":{\"type\":\"object\",\"name\":\"Selection\",\"id\":\"p1034\",\"attributes\":{\"indices\":[],\"line_indices\":[]}},\"selection_policy\":{\"type\":\"object\",\"name\":\"UnionRenderers\",\"id\":\"p1035\"},\"data\":{\"type\":\"map\",\"entries\":[[\"x\",{\"type\":\"ndarray\",\"array\":{\"type\":\"bytes\",\"data\":\"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\"},\"shape\":[1000],\"dtype\":\"float64\",\"order\":\"little\"}],[\"y\",{\"type\":\"ndarray\",\"array\":{\"type\":\"bytes\",\"data\":\"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\"},\"shape\":[1000],\"dtype\":\"float64\",\"order\":\"little\"}]]}}},\"view\":{\"type\":\"object\",\"name\":\"CDSView\",\"id\":\"p1040\",\"attributes\":{\"filter\":{\"type\":\"object\",\"name\":\"AllIndices\",\"id\":\"p1041\"}}},\"glyph\":{\"type\":\"object\",\"name\":\"Line\",\"id\":\"p1036\",\"attributes\":{\"x\":{\"type\":\"field\",\"field\":\"x\"},\"y\":{\"type\":\"field\",\"field\":\"y\"},\"line_color\":\"green\"}},\"nonselection_glyph\":{\"type\":\"object\",\"name\":\"Line\",\"id\":\"p1037\",\"attributes\":{\"x\":{\"type\":\"field\",\"field\":\"x\"},\"y\":{\"type\":\"field\",\"field\":\"y\"},\"line_color\":\"green\",\"line_alpha\":0.1}},\"muted_glyph\":{\"type\":\"object\",\"name\":\"Line\",\"id\":\"p1038\",\"attributes\":{\"x\":{\"type\":\"field\",\"field\":\"x\"},\"y\":{\"type\":\"field\",\"field\":\"y\"},\"line_color\":\"green\",\"line_alpha\":0.2}}}},{\"type\":\"object\",\"name\":\"GlyphRenderer\",\"id\":\"p1048\",\"attributes\":{\"data_source\":{\"type\":\"object\",\"name\":\"ColumnDataSource\",\"id\":\"p1042\",\"attributes\":{\"selected\":{\"type\":\"object\",\"name\":\"Selection\",\"id\":\"p1043\",\"attributes\":{\"indices\":[],\"line_indices\":[]}},\"selection_policy\":{\"type\":\"object\",\"name\":\"UnionRenderers\",\"id\":\"p1044\"},\"data\":{\"type\":\"map\",\"entries\":[[\"x\",{\"type\":\"ndarray\",\"array\":{\"type\":\"bytes\",\"data\":\"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\"},\"shape\":[1000],\"dtype\":\"float64\",\"order\":\"little\"}],[\"y\",{\"type\":\"ndarray\",\"array\":{\"type\":\"bytes\",\"data\":\"AAAAAAAAAAAAAAAAAAAAAAAAAAAAAAAAAAAAAAAAAAAAAAAAAAAAAAAAAAAAAAAAAAAAAAAAAAAAAAAAAAAAAAAAAAAAAAAAAAAAAAAAAAAAAAAAAAAAAAAAAAAAAAAAAAAAAQAAAAAAAAAAAAAAAAAAAAAAAAAAAAAAAAAAAAAAAAAAAAAAAAAAAAAAAAAAAAAAAAAAAAAAAAAAAAAAAAAAAAAAAAEAAAAAAAABAAAAAAABAAAAAAAAAAAAAAAAAAAAAAAAAAAAAAAAAQAAAAAAAAAAAAEAAAAAAAAAAAAAAAAAAAAAAAABAAAAAAAAAAEAAAAAAAAAAAAAAAAAAQAAAAAAAQEAAAAAAAEAAAAAAAAAAAAAAAAAAAEAAQAAAAAAAQABAAEBAAAAAAAAAQABAQEAAQABAQEAAQAAAAABAQEBAQAAAAEAAQABAAAAAQAAAQABAAEAAQABAAAAAQAAAAABAQAAAQAAAAAAAAAAAAABAAABAQAAAAAAAAAAAAAAAQABAQEBAAEAAQEBAQEAAQAAAAEBAAEBAQEBAQEBAQEAAAABAQAAAAEAAQEAAQAAAQABAAEBAAABAQEAAAAAAQABAQABAAEAAAEBAQABAQEBAAEAAAAAAAAAAAABAQEBAQEAAQAAAAEAAAEAAQEBAQABAQAAAQAAAQEBAQEAAAAAAQEAAAABAQABAQAAAQEBAQABAQEAAAAAAQAAAAABAAAAAQABAQAAAQEBAAAAAQAAAAAAAAAAAAEBAQABAQABAAEAAQEAAQEBAQAAAAAAAQABAQEAAQEAAQABAQEAAQEBAAEBAQAAAQABAAAAAAAAAAEBAQEBAAAAAQEAAAAAAAEBAQAAAAEBAAEBAAEBAQEAAQABAQEBAAEAAAEBAAEAAAABAQEBAQEAAQEAAQABAAEBAQEBAQEBAAEBAQEBAQEBAQABAQEBAQEBAQEBAQABAQEBAQABAQEBAQEBAQEBAQEBAQEBAQEBAQEBAQEBAQEBAQEBAQEBAQEBAQEBAQEBAQEBAQEBAQEBAQEBAQEBAQEBAQEBAQEBAQEBAQEBAQEBAQEBAQEBAQEBAQEBAQEBAQEBAQEBAQEBAQEBAQEBAQEBAQEBAQEBAQEBAQEBAQEBAQEBAQEBAQEBAQEBAQEBAQEBAQEBAQEBAQEBAQEBAQEBAQEBAQEBAQEBAQEBAQEBAQEBAQEBAQEBAQEBAQEBAQEBAQEBAQEBAQEBAQEBAQEBAQEBAQEBAQEBAQEBAQEBAQEBAQEBAQEBAQEBAQEBAQEBAQEBAQEBAQEBAQEBAQEBAQEBAQEBAQEBAQEBAQEBAQEBAQ==\"},\"shape\":[1000],\"dtype\":\"bool\",\"order\":\"little\"}]]}}},\"view\":{\"type\":\"object\",\"name\":\"CDSView\",\"id\":\"p1049\",\"attributes\":{\"filter\":{\"type\":\"object\",\"name\":\"AllIndices\",\"id\":\"p1050\"}}},\"glyph\":{\"type\":\"object\",\"name\":\"Scatter\",\"id\":\"p1045\",\"attributes\":{\"x\":{\"type\":\"field\",\"field\":\"x\"},\"y\":{\"type\":\"field\",\"field\":\"y\"},\"line_color\":{\"type\":\"value\",\"value\":\"#1f77b4\"},\"fill_color\":{\"type\":\"value\",\"value\":\"#1f77b4\"}}},\"nonselection_glyph\":{\"type\":\"object\",\"name\":\"Scatter\",\"id\":\"p1046\",\"attributes\":{\"x\":{\"type\":\"field\",\"field\":\"x\"},\"y\":{\"type\":\"field\",\"field\":\"y\"},\"line_color\":{\"type\":\"value\",\"value\":\"#1f77b4\"},\"line_alpha\":{\"type\":\"value\",\"value\":0.1},\"fill_color\":{\"type\":\"value\",\"value\":\"#1f77b4\"},\"fill_alpha\":{\"type\":\"value\",\"value\":0.1},\"hatch_alpha\":{\"type\":\"value\",\"value\":0.1}}},\"muted_glyph\":{\"type\":\"object\",\"name\":\"Scatter\",\"id\":\"p1047\",\"attributes\":{\"x\":{\"type\":\"field\",\"field\":\"x\"},\"y\":{\"type\":\"field\",\"field\":\"y\"},\"line_color\":{\"type\":\"value\",\"value\":\"#1f77b4\"},\"line_alpha\":{\"type\":\"value\",\"value\":0.2},\"fill_color\":{\"type\":\"value\",\"value\":\"#1f77b4\"},\"fill_alpha\":{\"type\":\"value\",\"value\":0.2},\"hatch_alpha\":{\"type\":\"value\",\"value\":0.2}}}}}],\"toolbar\":{\"type\":\"object\",\"name\":\"Toolbar\",\"id\":\"p1009\",\"attributes\":{\"tools\":[{\"type\":\"object\",\"name\":\"PanTool\",\"id\":\"p1022\"},{\"type\":\"object\",\"name\":\"WheelZoomTool\",\"id\":\"p1023\",\"attributes\":{\"renderers\":\"auto\"}},{\"type\":\"object\",\"name\":\"BoxZoomTool\",\"id\":\"p1024\",\"attributes\":{\"overlay\":{\"type\":\"object\",\"name\":\"BoxAnnotation\",\"id\":\"p1025\",\"attributes\":{\"syncable\":false,\"level\":\"overlay\",\"visible\":false,\"left\":{\"type\":\"number\",\"value\":\"nan\"},\"right\":{\"type\":\"number\",\"value\":\"nan\"},\"top\":{\"type\":\"number\",\"value\":\"nan\"},\"bottom\":{\"type\":\"number\",\"value\":\"nan\"},\"left_units\":\"canvas\",\"right_units\":\"canvas\",\"top_units\":\"canvas\",\"bottom_units\":\"canvas\",\"line_color\":\"black\",\"line_alpha\":1.0,\"line_width\":2,\"line_dash\":[4,4],\"fill_color\":\"lightgrey\",\"fill_alpha\":0.5}}}},{\"type\":\"object\",\"name\":\"SaveTool\",\"id\":\"p1030\"},{\"type\":\"object\",\"name\":\"ResetTool\",\"id\":\"p1031\"},{\"type\":\"object\",\"name\":\"HelpTool\",\"id\":\"p1032\"}]}},\"left\":[{\"type\":\"object\",\"name\":\"LinearAxis\",\"id\":\"p1017\",\"attributes\":{\"ticker\":{\"type\":\"object\",\"name\":\"BasicTicker\",\"id\":\"p1018\",\"attributes\":{\"mantissas\":[1,2,5]}},\"formatter\":{\"type\":\"object\",\"name\":\"BasicTickFormatter\",\"id\":\"p1019\"},\"major_label_policy\":{\"type\":\"object\",\"name\":\"AllLabels\",\"id\":\"p1020\"}}}],\"below\":[{\"type\":\"object\",\"name\":\"LinearAxis\",\"id\":\"p1012\",\"attributes\":{\"ticker\":{\"type\":\"object\",\"name\":\"BasicTicker\",\"id\":\"p1013\",\"attributes\":{\"mantissas\":[1,2,5]}},\"formatter\":{\"type\":\"object\",\"name\":\"BasicTickFormatter\",\"id\":\"p1014\"},\"major_label_policy\":{\"type\":\"object\",\"name\":\"AllLabels\",\"id\":\"p1015\"}}}],\"center\":[{\"type\":\"object\",\"name\":\"Grid\",\"id\":\"p1016\",\"attributes\":{\"axis\":{\"id\":\"p1012\"}}},{\"type\":\"object\",\"name\":\"Grid\",\"id\":\"p1021\",\"attributes\":{\"dimension\":1,\"axis\":{\"id\":\"p1017\"}}}]}}]}};\n",
       "  const render_items = [{\"docid\":\"7e031a7a-73bf-47d5-8d4e-9a862a02e1cc\",\"roots\":{\"p1001\":\"d1ac9663-b1bc-414a-8802-38b87ca63309\"},\"root_ids\":[\"p1001\"]}];\n",
       "  root.Bokeh.embed.embed_items_notebook(docs_json, render_items);\n",
       "  }\n",
       "  if (root.Bokeh !== undefined) {\n",
       "    embed_document(root);\n",
       "  } else {\n",
       "    let attempts = 0;\n",
       "    const timer = setInterval(function(root) {\n",
       "      if (root.Bokeh !== undefined) {\n",
       "        clearInterval(timer);\n",
       "        embed_document(root);\n",
       "      } else {\n",
       "        attempts++;\n",
       "        if (attempts > 100) {\n",
       "          clearInterval(timer);\n",
       "          console.log(\"Bokeh: ERROR: Unable to run BokehJS code because BokehJS library is missing\");\n",
       "        }\n",
       "      }\n",
       "    }, 10, root)\n",
       "  }\n",
       "})(window);"
      ],
      "application/vnd.bokehjs_exec.v0+json": ""
     },
     "metadata": {
      "application/vnd.bokehjs_exec.v0+json": {
       "id": "p1001"
      }
     },
     "output_type": "display_data"
    }
   ],
   "source": [
    "p = figure(width=600, height=600)\n",
    "p.line(xs,thr(xs),color='green')\n",
    "p.scatter(xs,ys)\n",
    "show(p)"
   ]
  },
  {
   "cell_type": "code",
   "execution_count": 9,
   "metadata": {
    "ExecuteTime": {
     "end_time": "2020-07-09T17:31:25.904606Z",
     "start_time": "2020-07-09T17:31:25.723297Z"
    }
   },
   "outputs": [],
   "source": [
    "from sklearn.isotonic import IsotonicRegression\n",
    "\n",
    "import VennABERS"
   ]
  },
  {
   "cell_type": "code",
   "execution_count": 10,
   "metadata": {},
   "outputs": [
    {
     "data": {
      "text/plain": [
       "<module 'VennABERS' from '/home/paolot/.local/lib/python3.10/site-packages/VennABERS.py'>"
      ]
     },
     "execution_count": 10,
     "metadata": {},
     "output_type": "execute_result"
    }
   ],
   "source": [
    "VennABERS"
   ]
  },
  {
   "cell_type": "code",
   "execution_count": 11,
   "metadata": {
    "ExecuteTime": {
     "end_time": "2020-07-09T17:31:25.909463Z",
     "start_time": "2020-07-09T17:31:25.905732Z"
    }
   },
   "outputs": [],
   "source": [
    "def VennABERS_by_def(ds,test):\n",
    "    p0,p1 = [],[]\n",
    "    for x in test:\n",
    "        ds0 = ds+[(x,0)]\n",
    "        iso0 = IsotonicRegression().fit(*zip(*ds0))\n",
    "        p0.append(iso0.predict([x]))\n",
    "        \n",
    "        ds1 = ds+[(x,1)]\n",
    "        iso1 = IsotonicRegression().fit(*zip(*ds1))\n",
    "        p1.append(iso1.predict([x]))\n",
    "    return np.array(p0).flatten(),np.array(p1).flatten()"
   ]
  },
  {
   "cell_type": "code",
   "execution_count": 12,
   "metadata": {
    "ExecuteTime": {
     "end_time": "2020-07-09T17:31:25.915142Z",
     "start_time": "2020-07-09T17:31:25.910593Z"
    }
   },
   "outputs": [],
   "source": [
    "xs = np.random.uniform(low=-10,high=10,size=400)\n",
    "ys = classAssignment(xs)"
   ]
  },
  {
   "cell_type": "code",
   "execution_count": 13,
   "metadata": {
    "ExecuteTime": {
     "end_time": "2020-07-09T17:31:25.920508Z",
     "start_time": "2020-07-09T17:31:25.916272Z"
    }
   },
   "outputs": [],
   "source": [
    "xtest = np.linspace(-11,11,1000)"
   ]
  },
  {
   "cell_type": "code",
   "execution_count": 14,
   "metadata": {
    "ExecuteTime": {
     "end_time": "2020-07-09T17:31:26.743534Z",
     "start_time": "2020-07-09T17:31:25.921524Z"
    }
   },
   "outputs": [],
   "source": [
    "p0d,p1d = VennABERS_by_def(list(zip(xs,ys)),xtest)"
   ]
  },
  {
   "cell_type": "code",
   "execution_count": 15,
   "metadata": {
    "ExecuteTime": {
     "end_time": "2020-07-09T17:31:26.789602Z",
     "start_time": "2020-07-09T17:31:26.744641Z"
    }
   },
   "outputs": [],
   "source": [
    "vap = VennABERS.VennABERS()\n",
    "vap.fit(xs.reshape(-1,1), ys)\n",
    "p0,p1 = vap.predict_proba(xtest.reshape(-1,1))"
   ]
  },
  {
   "cell_type": "code",
   "execution_count": 16,
   "metadata": {
    "ExecuteTime": {
     "end_time": "2020-07-09T17:31:26.795813Z",
     "start_time": "2020-07-09T17:31:26.790942Z"
    }
   },
   "outputs": [
    {
     "name": "stdout",
     "output_type": "stream",
     "text": [
      "p0: there are 0 discrepancies\n",
      "p1: there are 0 discrepancies\n"
     ]
    }
   ],
   "source": [
    "discrepancies_p0 = np.argwhere(~np.isclose(p0.flatten(),p0d.flatten()))\n",
    "discrepancies_p1 = np.argwhere(~np.isclose(p1.flatten(),p1d.flatten()))\n",
    "\n",
    "print(\"p0: there are\", discrepancies_p0.shape[0], \"discrepancies\")\n",
    "print(\"p1: there are\", discrepancies_p1.shape[0], \"discrepancies\")"
   ]
  },
  {
   "cell_type": "code",
   "execution_count": 17,
   "metadata": {
    "ExecuteTime": {
     "end_time": "2020-07-09T17:31:26.804697Z",
     "start_time": "2020-07-09T17:31:26.796951Z"
    }
   },
   "outputs": [
    {
     "data": {
      "text/plain": [
       "False"
      ]
     },
     "execution_count": 17,
     "metadata": {},
     "output_type": "execute_result"
    }
   ],
   "source": [
    "np.any(p0>p1)"
   ]
  },
  {
   "cell_type": "markdown",
   "metadata": {},
   "source": [
    "### Success! No discrepancy between fast implementation and reference implementation\n",
    "\n",
    "Let's try with added duplicates (more than one point with the same score)"
   ]
  },
  {
   "cell_type": "code",
   "execution_count": 18,
   "metadata": {
    "ExecuteTime": {
     "end_time": "2020-07-09T17:31:26.809528Z",
     "start_time": "2020-07-09T17:31:26.805726Z"
    }
   },
   "outputs": [],
   "source": [
    "# Let's duplicate 1 in 10\n",
    "\n",
    "x_dups = xs[::10]\n",
    "y_dups = ~ys[::10]   # Let's switch labels, just for extra fun"
   ]
  },
  {
   "cell_type": "code",
   "execution_count": 19,
   "metadata": {
    "ExecuteTime": {
     "end_time": "2020-07-09T17:31:26.815006Z",
     "start_time": "2020-07-09T17:31:26.810788Z"
    }
   },
   "outputs": [],
   "source": [
    "xs = np.r_[xs,x_dups]\n",
    "ys = np.r_[ys,y_dups]"
   ]
  },
  {
   "cell_type": "code",
   "execution_count": 20,
   "metadata": {
    "ExecuteTime": {
     "end_time": "2020-07-09T17:31:26.820732Z",
     "start_time": "2020-07-09T17:31:26.816103Z"
    }
   },
   "outputs": [
    {
     "data": {
      "text/plain": [
       "((440,), (440,))"
      ]
     },
     "execution_count": 20,
     "metadata": {},
     "output_type": "execute_result"
    }
   ],
   "source": [
    "xs.shape, ys.shape"
   ]
  },
  {
   "cell_type": "code",
   "execution_count": 21,
   "metadata": {
    "ExecuteTime": {
     "end_time": "2020-07-09T17:31:27.733555Z",
     "start_time": "2020-07-09T17:31:26.821549Z"
    }
   },
   "outputs": [],
   "source": [
    "p0d,p1d = VennABERS_by_def(list(zip(xs,ys)),xtest)\n",
    "vap = VennABERS.VennABERS()\n",
    "vap.fit(xs.reshape(-1,1), ys)\n",
    "p0f,p1f = vap.predict_proba(xtest.reshape(-1,1))"
   ]
  },
  {
   "cell_type": "code",
   "execution_count": 22,
   "metadata": {
    "ExecuteTime": {
     "end_time": "2020-07-09T17:31:27.737966Z",
     "start_time": "2020-07-09T17:31:27.734670Z"
    }
   },
   "outputs": [
    {
     "data": {
      "text/plain": [
       "False"
      ]
     },
     "execution_count": 22,
     "metadata": {},
     "output_type": "execute_result"
    }
   ],
   "source": [
    "np.any(p0f>p1f)"
   ]
  },
  {
   "cell_type": "code",
   "execution_count": 23,
   "metadata": {
    "ExecuteTime": {
     "end_time": "2020-07-09T17:31:27.747161Z",
     "start_time": "2020-07-09T17:31:27.739092Z"
    }
   },
   "outputs": [
    {
     "name": "stdout",
     "output_type": "stream",
     "text": [
      "p0f: there are 0 discrepancies\n",
      "p1f: there are 0 discrepancies\n"
     ]
    }
   ],
   "source": [
    "discrepancies_p0f = np.argwhere(~np.isclose(p0f,p0d))\n",
    "discrepancies_p1f = np.argwhere(~np.isclose(p1f,p1d))\n",
    "\n",
    "print(\"p0f: there are\", discrepancies_p0f.shape[0], \"discrepancies\")\n",
    "print(\"p1f: there are\", discrepancies_p1f.shape[0], \"discrepancies\")"
   ]
  },
  {
   "cell_type": "markdown",
   "metadata": {},
   "source": [
    "### Success!! No discrepancy between reference implementation and fast implementation\n",
    "\n",
    "Just out of curiosity, let's plot the calibrator."
   ]
  },
  {
   "cell_type": "code",
   "execution_count": 24,
   "metadata": {
    "ExecuteTime": {
     "end_time": "2020-07-09T17:31:27.783125Z",
     "start_time": "2020-07-09T17:31:27.748006Z"
    }
   },
   "outputs": [
    {
     "data": {
      "text/html": [
       "\n",
       "  <div id=\"e9a70ef4-b170-4fec-befc-d30f3a314b24\" data-root-id=\"p1055\" style=\"display: contents;\"></div>\n"
      ]
     },
     "metadata": {},
     "output_type": "display_data"
    },
    {
     "data": {
      "application/javascript": [
       "(function(root) {\n",
       "  function embed_document(root) {\n",
       "  const docs_json = {\"3f876c4c-10fc-4f1f-a16a-3d4b87621418\":{\"version\":\"3.3.4\",\"title\":\"Bokeh Application\",\"roots\":[{\"type\":\"object\",\"name\":\"Figure\",\"id\":\"p1055\",\"attributes\":{\"x_range\":{\"type\":\"object\",\"name\":\"DataRange1d\",\"id\":\"p1056\"},\"y_range\":{\"type\":\"object\",\"name\":\"DataRange1d\",\"id\":\"p1057\"},\"x_scale\":{\"type\":\"object\",\"name\":\"LinearScale\",\"id\":\"p1064\"},\"y_scale\":{\"type\":\"object\",\"name\":\"LinearScale\",\"id\":\"p1065\"},\"title\":{\"type\":\"object\",\"name\":\"Title\",\"id\":\"p1062\"},\"renderers\":[{\"type\":\"object\",\"name\":\"GlyphRenderer\",\"id\":\"p1093\",\"attributes\":{\"data_source\":{\"type\":\"object\",\"name\":\"ColumnDataSource\",\"id\":\"p1087\",\"attributes\":{\"selected\":{\"type\":\"object\",\"name\":\"Selection\",\"id\":\"p1088\",\"attributes\":{\"indices\":[],\"line_indices\":[]}},\"selection_policy\":{\"type\":\"object\",\"name\":\"UnionRenderers\",\"id\":\"p1089\"},\"data\":{\"type\":\"map\",\"entries\":[[\"x\",{\"type\":\"ndarray\",\"array\":{\"type\":\"bytes\",\"data\":\"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\"},\"shape\":[1000],\"dtype\":\"float64\",\"order\":\"little\"}],[\"y\",{\"type\":\"ndarray\",\"array\":{\"type\":\"bytes\",\"data\":\"AAAAAAAAAAAAAAAAAAAAAAAAAAAAAAAAAAAAAAAAAAAAAAAAAAAAAAAAAAAAAAAAAAAAAAAAAAAAAAAAAAAAAAAAAAAAAAAAAAAAAAAAAAAAAAAAAAAAAAAAAAAAAAAAAAAAAAAAAAAAAAAAAAAAAAAAAAAAAAAAAAAAAAAAAAAAAAAAAAAAAAAAAAAAAAAAAAAAAAAAAAAAAAAAAAAAAAAAAAAAAAAAAAAAAAAAAAAAAAAAAAAAAAAAAAAAAAAAAAAAAAAAAAAAAAAAAAAAAAAAAAAAAAAAAAAAAAAAAAAAAAAAAAAAAAAAAAAAAAAAAAAAAAAAAAAAAAAAAAAAAAAAAAAAAAAAAAAAAAAAAAAAAAAAAAAAAAAAAAAAAAAAAAAAAAAAAAAAAAAAAAAAAAAAAAAAAAAAAAAAAAAAAAAAAAAAAAAAAAAAAAAAAAAAAAAAAAAAAAAAAAAAAAAAAAAAAAAAAAAAAAAAAAAAAAAAAAAAAAAAACnxM0r8jLI/KfEzSvyMsj8p8TNK/IyyPynxM0r8jLI/KfEzSvyMsj8p8TNK/IyyPynxM0r8jLI/KfEzSvyMsj8p8TNK/IyyPynxM0r8jLI/KfEzSvyMsj8p8TNK/IyyPynxM0r8jLI/KfEzSvyMsj8p8TNK/IyyPynxM0r8jLI/KfEzSvyMsj8p8TNK/IyyPynxM0r8jLI/KfEzSvyMsj8p8TNK/IyyPynxM0r8jLI/KfEzSvyMsj8p8TNK/IyyPynxM0r8jLI/KfEzSvyMsj8p8TNK/IyyPynxM0r8jLI/KfEzSvyMsj8p8TNK/IyyPynxM0r8jLI/KfEzSvyMsj8p8TNK/IyyPynxM0r8jLI/KfEzSvyMsj8p8TNK/IyyPynxM0r8jLI/KfEzSvyMsj8p8TNK/IyyPynxM0r8jLI/KfEzSvyMsj8p8TNK/IyyPynxM0r8jLI/KfEzSvyMsj8p8TNK/IyyPynxM0r8jLI/KfEzSvyMsj8p8TNK/IyyPynxM0r8jLI/KfEzSvyMsj8p8TNK/IyyPynxM0r8jLI/KfEzSvyMsj8p8TNK/IyyPynxM0r8jLI/KfEzSvyMsj8p8TNK/IyyPynxM0r8jLI/KfEzSvyMsj8p8TNK/IyyPynxM0r8jLI/KfEzSvyMsj8p8TNK/IyyPynxM0r8jLI/KfEzSvyMsj8p8TNK/IyyPynxM0r8jLI/KfEzSvyMsj8p8TNK/IyyPynxM0r8jLI/KfEzSvyMsj8p8TNK/IyyPynxM0r8jLI/KfEzSvyMsj8p8TNK/IyyPynxM0r8jLI/KfEzSvyMsj8p8TNK/IyyPynxM0r8jLI/KfEzSvyMsj8p8TNK/IyyPynxM0r8jLI/KfEzSvyMsj8p8TNK/IyyPynxM0r8jLI/KfEzSvyMsj8p8TNK/IyyPynxM0r8jLI/KfEzSvyMsj8p8TNK/IyyPynxM0r8jLI/KfEzSvyMsj8p8TNK/IyyPynxM0r8jLI/KfEzSvyMsj8p8TNK/IyyPynxM0r8jLI/KfEzSvyMsj8p8TNK/IyyPynxM0r8jLI/KfEzSvyMsj8p8TNK/IyyPynxM0r8jLI/KfEzSvyMsj8p8TNK/IyyPynxM0r8jLI/KfEzSvyMsj8p8TNK/IyyPynxM0r8jLI/KfEzSvyMsj8p8TNK/IyyPynxM0r8jLI/KfEzSvyMsj8p8TNK/IyyPynxM0r8jLI/KfEzSvyMsj8p8TNK/IyyPynxM0r8jLI/KfEzSvyMsj8p8TNK/IyyPynxM0r8jLI/KfEzSvyMsj8p8TNK/IyyPynxM0r8jLI/KfEzSvyMsj8p8TNK/IyyPynxM0r8jLI/KfEzSvyMsj9GF1100UW3P0YXXXTRRbc/RhdddNFFtz9GF1100UW3P0YXXXTRRbc/RhdddNFFtz9GF1100UW3P0YXXXTRRbc/RhdddNFFtz9GF1100UW3P0YXXXTRRbc/RhdddNFFtz9GF1100UW3P0YXXXTRRbc/RhdddNFFtz9GF1100UW3P0YXXXTRRbc/RhdddNFFtz9GF1100UW3P0YXXXTRRbc/RhdddNFFtz9GF1100UW3P0YXXXTRRbc/RhdddNFFtz+SJEmSJEnCP5IkSZIkScI/kiRJkiRJwj+SJEmSJEnCP5IkSZIkScI/kiRJkiRJwj+SJEmSJEnCP5IkSZIkScI/kiRJkiRJwj+SJEmSJEnCP5IkSZIkScI/kiRJkiRJwj+SJEmSJEnCP5IkSZIkScI/kiRJkiRJwj+SJEmSJEnCP1VVVVVVVcU/VVVVVVVVxT9VVVVVVVXFP1VVVVVVVcU/VVVVVVVVxT9VVVVVVVXFP1VVVVVVVcU/VVVVVVVVxT9VVVVVVVXFP1VVVVVVVcU/VVVVVVVVxT9VVVVVVVXFP1VVVVVVVcU/VVVVVVVVxT9VVVVVVVXFPxiGYRiGYcg/GIZhGIZhyD8YhmEYhmHIPxiGYRiGYcg/GIZhGIZhyD8YhmEYhmHIPxiGYRiGYcg/GIZhGIZhyD8YhmEYhmHIPxiGYRiGYcg/GIZhGIZhyD8YhmEYhmHIPxiGYRiGYcg/GIZhGIZhyD8YhmEYhmHIPxiGYRiGYcg/GIZhGIZhyD8YhmEYhmHIPxiGYRiGYcg/GIZhGIZhyD8YhmEYhmHIPxiGYRiGYcg/GIZhGIZhyD8YhmEYhmHIPxiGYRiGYcg/GIZhGIZhyD8YhmEYhmHIPxiGYRiGYcg/GIZhGIZhyD8YhmEYhmHIPxiGYRiGYcg/GIZhGIZhyD8YhmEYhmHIPxiGYRiGYcg/GIZhGIZhyD8YhmEYhmHIPxiGYRiGYcg/GIZhGIZhyD8YhmEYhmHIPxiGYRiGYcg/GIZhGIZhyD8YhmEYhmHIPxiGYRiGYcg/GIZhGIZhyD8YhmEYhmHIPxiGYRiGYcg/GIZhGIZhyD8YhmEYhmHIPxiGYRiGYcg/GIZhGIZhyD+96U1vetPLP73pTW9608s/velNb3rTyz+96U1vetPLP73pTW9608s/velNb3rTyz+96U1vetPLP73pTW9608s/velNb3rTyz+96U1vetPLP73pTW9608s/velNb3rTyz+96U1vetPLP73pTW9608s/velNb3rTyz+96U1vetPLP73pTW9608s/velNb3rTyz+96U1vetPLP73pTW9608s/velNb3rTyz+96U1vetPLP73pTW9608s/velNb3rTyz+96U1vetPLP73pTW9608s/velNb3rTyz8cx3Ecx3HMPxzHcRzHccw/HMdxHMdxzD8cx3Ecx3HMPxzHcRzHccw/HMdxHMdxzD8cx3Ecx3HMPxzHcRzHccw/mpmZmZmZ2T+amZmZmZnZP5qZmZmZmdk/27Zt27Zt2z/btm3btm3bP9u2bdu2bds/27Zt27Zt2z/btm3btm3bP9u2bdu2bds/27Zt27Zt2z/btm3btm3bP9u2bdu2bds/27Zt27Zt2z/btm3btm3bP9u2bdu2bds/27Zt27Zt2z/btm3btm3bP9u2bdu2bds/AAAAAAAA4D/gB37gB37gP+AHfuAHfuA/4Ad+4Ad+4D/gB37gB37gP+AHfuAHfuA/4Ad+4Ad+4D/gB37gB37gP+AHfuAHfuA/4Ad+4Ad+4D/gB37gB37gP+AHfuAHfuA/4Ad+4Ad+4D/gB37gB37gP+AHfuAHfuA/4Ad+4Ad+4D/gB37gB37gP+AHfuAHfuA/4Ad+4Ad+4D/gB37gB37gP+AHfuAHfuA/4Ad+4Ad+4D/gB37gB37gP+AHfuAHfuA/4Ad+4Ad+4D/gB37gB37gP+AHfuAHfuA/4Ad+4Ad+4D/gB37gB37gP+AHfuAHfuA/4Ad+4Ad+4D/gB37gB37gP+AHfuAHfuA/4Ad+4Ad+4D/gB37gB37gP+AHfuAHfuA/4Ad+4Ad+4D/gB37gB37gP+AHfuAHfuA/4Ad+4Ad+4D/gB37gB37gP+AHfuAHfuA/4Ad+4Ad+4D/gB37gB37gP+AHfuAHfuA/4Ad+4Ad+4D/gB37gB37gP+AHfuAHfuA/4Ad+4Ad+4D/gB37gB37gP+AHfuAHfuA/4Ad+4Ad+4D/gB37gB37gP+AHfuAHfuA/4Ad+4Ad+4D/gB37gB37gP+AHfuAHfuA/4Ad+4Ad+4D/gB37gB37gP+AHfuAHfuA/4Ad+4Ad+4D/gB37gB37gP+AHfuAHfuA/4Ad+4Ad+4D/gB37gB37gP+AHfuAHfuA/4Ad+4Ad+4D/gB37gB37gP+AHfuAHfuA/4Ad+4Ad+4D/gB37gB37gP+AHfuAHfuA/4Ad+4Ad+4D/gB37gB37gP+AHfuAHfuA/4Ad+4Ad+4D/gB37gB37gP+AHfuAHfuA/4Ad+4Ad+4D/gB37gB37gP+AHfuAHfuA/4Ad+4Ad+4D/gB37gB37gP+AHfuAHfuA/4Ad+4Ad+4D/gB37gB37gP+AHfuAHfuA/4Ad+4Ad+4D/gB37gB37gP+AHfuAHfuA/4Ad+4Ad+4D/gB37gB37gP+AHfuAHfuA/4Ad+4Ad+4D/gB37gB37gP+AHfuAHfuA/4Ad+4Ad+4D/gB37gB37gP+AHfuAHfuA/4Ad+4Ad+4D/gB37gB37gP+AHfuAHfuA/4Ad+4Ad+4D/gB37gB37gP+AHfuAHfuA/4Ad+4Ad+4D/gB37gB37gP+AHfuAHfuA/4Ad+4Ad+4D/gB37gB37gP+AHfuAHfuA/4Ad+4Ad+4D/gB37gB37gP+AHfuAHfuA/4Ad+4Ad+4D/gB37gB37gP+AHfuAHfuA/4Ad+4Ad+4D/gB37gB37gP+AHfuAHfuA/4Ad+4Ad+4D/gB37gB37gP+AHfuAHfuA/4Ad+4Ad+4D/gB37gB37gP+AHfuAHfuA/4Ad+4Ad+4D/gB37gB37gP+AHfuAHfuA/4Ad+4Ad+4D/gB37gB37gP+AHfuAHfuA/4Ad+4Ad+4D/gB37gB37gP+AHfuAHfuA/4Ad+4Ad+4D/gB37gB37gP+AHfuAHfuA/4Ad+4Ad+4D/gB37gB37gP+AHfuAHfuA/4Ad+4Ad+4D/gB37gB37gP+AHfuAHfuA/4Ad+4Ad+4D/gB37gB37gP+AHfuAHfuA/4Ad+4Ad+4D/gB37gB37gP+AHfuAHfuA/4Ad+4Ad+4D/gB37gB37gP+AHfuAHfuA/4Ad+4Ad+4D/gB37gB37gP+AHfuAHfuA/4Ad+4Ad+4D/gB37gB37gP+AHfuAHfuA/4Ad+4Ad+4D/gB37gB37gP+AHfuAHfuA/4Ad+4Ad+4D/gB37gB37gP+AHfuAHfuA/4Ad+4Ad+4D/gB37gB37gP+AHfuAHfuA/4Ad+4Ad+4D/gB37gB37gP+AHfuAHfuA/4Ad+4Ad+4D/gB37gB37gP+AHfuAHfuA/4Ad+4Ad+4D/gB37gB37gP+AHfuAHfuA/4Ad+4Ad+4D/gB37gB37gP+AHfuAHfuA/4Ad+4Ad+4D/gB37gB37gP+AHfuAHfuA/4Ad+4Ad+4D/gB37gB37gP+AHfuAHfuA/4Ad+4Ad+4D/gB37gB37gP+AHfuAHfuA/4Ad+4Ad+4D/gB37gB37gP+AHfuAHfuA/4Ad+4Ad+4D/gB37gB37gP+AHfuAHfuA/4Ad+4Ad+4D/gB37gB37gP+AHfuAHfuA/4Ad+4Ad+4D/gB37gB37gP+AHfuAHfuA/4Ad+4Ad+4D/gB37gB37gP+AHfuAHfuA/4Ad+4Ad+4D/gB37gB37gP+AHfuAHfuA/4Ad+4Ad+4D/gB37gB37gP+AHfuAHfuA/4Ad+4Ad+4D/gB37gB37gP+AHfuAHfuA/4Ad+4Ad+4D/gB37gB37gP+AHfuAHfuA/4Ad+4Ad+4D/gB37gB37gP+AHfuAHfuA/4Ad+4Ad+4D/gB37gB37gP+AHfuAHfuA/4Ad+4Ad+4D/gB37gB37gP+AHfuAHfuA/4Ad+4Ad+4D/gB37gB37gP+AHfuAHfuA/4Ad+4Ad+4D/gB37gB37gP+AHfuAHfuA/4Ad+4Ad+4D/gB37gB37gP+AHfuAHfuA/4Ad+4Ad+4D/gB37gB37gP+AHfuAHfuA/4Ad+4Ad+4D/gB37gB37gP+AHfuAHfuA/4Ad+4Ad+4D/gB37gB37gP+AHfuAHfuA/4Ad+4Ad+4D/gB37gB37gP+AHfuAHfuA/4Ad+4Ad+4D/gB37gB37gP+AHfuAHfuA/4Ad+4Ad+4D/gB37gB37gP+AHfuAHfuA/4Ad+4Ad+4D/gB37gB37gP+AHfuAHfuA/4Ad+4Ad+4D/gB37gB37gP+AHfuAHfuA/4Ad+4Ad+4D/gB37gB37gP+AHfuAHfuA/4Ad+4Ad+4D/gB37gB37gP+AHfuAHfuA/4Ad+4Ad+4D/gB37gB37gP+AHfuAHfuA/4Ad+4Ad+4D/gB37gB37gP+AHfuAHfuA/4Ad+4Ad+4D/gB37gB37gP+AHfuAHfuA/4Ad+4Ad+4D/gB37gB37gP+AHfuAHfuA/4Ad+4Ad+4D/gB37gB37gP+AHfuAHfuA/4Ad+4Ad+4D/gB37gB37gP+AHfuAHfuA/4Ad+4Ad+4D/gB37gB37gP+AHfuAHfuA/4Ad+4Ad+4D/gB37gB37gP+AHfuAHfuA/4Ad+4Ad+4D/gB37gB37gP+AHfuAHfuA/4Ad+4Ad+4D/gB37gB37gP6AJfyb8meA/sRM7sRM74T+xEzuxEzvhP7ETO7ETO+E/sRM7sRM74T+xEzuxEzvhP7ETO7ETO+E/sRM7sRM74T+xEzuxEzvhP7ETO7ETO+E/sRM7sRM74T+xEzuxEzvhP7ETO7ETO+E/sRM7sRM74T+xEzuxEzvhP7ETO7ETO+E/sRM7sRM74T+xEzuxEzvhP7ETO7ETO+E/sRM7sRM74T+xEzuxEzvhP7ETO7ETO+E/sRM7sRM74T+xEzuxEzvhP7ETO7ETO+E/AAAAAAAA4j8AAAAAAADiPwAAAAAAAOI/AAAAAAAA4j8AAAAAAADiPwAAAAAAAOI/AAAAAAAA4j8AAAAAAADiPwAAAAAAAOI/AAAAAAAA4j8AAAAAAADiPwAAAAAAAOI/AAAAAAAA4j8AAAAAAADiPwAAAAAAAOI/AAAAAAAA4j8AAAAAAADiPwAAAAAAAOI/AAAAAAAA4j8AAAAAAADiPwAAAAAAAOI/AAAAAAAA4j8AAAAAAADiPwAAAAAAAOI/AAAAAAAA4j8AAAAAAADiPwAAAAAAAOI/AAAAAAAA4j8AAAAAAADiPwAAAAAAAOI/AAAAAAAA4j8AAAAAAADiPwAAAAAAAOI/AAAAAAAA4j8AAAAAAADiPwAAAAAAAOI/AAAAAAAA4j/SIA3SIA3iP9IgDdIgDeI/0iAN0iAN4j/SIA3SIA3iP9IgDdIgDeI/0iAN0iAN4j/SIA3SIA3iP9IgDdIgDeI/0iAN0iAN4j/SIA3SIA3iP9IgDdIgDeI/kiRJkiRJ4j+SJEmSJEniP5IkSZIkSeI/kiRJkiRJ4j+SJEmSJEniP5IkSZIkSeI/kiRJkiRJ4j+SJEmSJEniPzMzMzMzM+M/VVVVVVVV5T9VVVVVVVXlP1VVVVVVVeU/VVVVVVVV5T9VVVVVVVXlP1VVVVVVVeU/VVVVVVVV5T9VVVVVVVXlP1VVVVVVVeU/VVVVVVVV5T+3bdu2bdvmP7dt27Zt2+Y/t23btm3b5j+3bdu2bdvmP7dt27Zt2+Y/t23btm3b5j+3bdu2bdvmP7dt27Zt2+Y/t23btm3b5j+3bdu2bdvmP7dt27Zt2+Y/t23btm3b5j8AAAAAAADoPzmO4ziO4+g/OY7jOI7j6D+amZmZmZnpP6uqqqqqquo/27Zt27Zt6z/btm3btm3rP9u2bdu2bes/27Zt27Zt6z/btm3btm3rP9u2bdu2bes/AAAAAAAA7D8cx3Ecx3HsP83MzMzMzOw/VVVVVVVV7T9VVVVVVVXtP1VVVVVVVe0/VVVVVVVV7T9VVVVVVVXtP1VVVVVVVe0/VVVVVVVV7T9VVVVVVVXtP1VVVVVVVe0/VVVVVVVV7T9VVVVVVVXtP1VVVVVVVe0/VVVVVVVV7T9VVVVVVVXtP1VVVVVVVe0/VVVVVVVV7T9VVVVVVVXtP1VVVVVVVe0/VVVVVVVV7T9VVVVVVVXtP3E9CtejcO0/ntiJndiJ7T+e2Imd2IntP57YiZ3Yie0/ntiJndiJ7T+e2Imd2IntP57YiZ3Yie0/ntiJndiJ7T+e2Imd2IntP57YiZ3Yie0/ntiJndiJ7T+e2Imd2IntP57YiZ3Yie0/ntiJndiJ7T+e2Imd2IntP57YiZ3Yie0/ntiJndiJ7T+e2Imd2IntP57YiZ3Yie0/ntiJndiJ7T+e2Imd2IntP57YiZ3Yie0/ntiJndiJ7T+pXYnalajtP6ldidqVqO0/qV2J2pWo7T+pXYnalajtP6ldidqVqO0/btu2bdu27T9u27Zt27btP9FFF1100e0/0UUXXXTR7T/RRRdddNHtPx5bETSc1O0/HlsRNJzU7T8eWxE0nNTtPx5bETSc1O0/HlsRNJzU7T8eWxE0nNTtPx5bETSc1O0/HlsRNJzU7T8eWxE0nNTtPx5bETSc1O0/HlsRNJzU7T8eWxE0nNTtPx5bETSc1O0/HlsRNJzU7T8eWxE0nNTtPx5bETSc1O0/HlsRNJzU7T8eWxE0nNTtPx5bETSc1O0/HlsRNJzU7T8eWxE0nNTtPx5bETSc1O0/HlsRNJzU7T8eWxE0nNTtPx5bETSc1O0/HlsRNJzU7T8eWxE0nNTtPx5bETSc1O0/HlsRNJzU7T8eWxE0nNTtPx5bETSc1O0/HlsRNJzU7T8eWxE0nNTtPx5bETSc1O0/HlsRNJzU7T8eWxE0nNTtPx5bETSc1O0/HlsRNJzU7T8eWxE0nNTtPx5bETSc1O0/HlsRNJzU7T8eWxE0nNTtP97d3d3d3e0/3t3d3d3d7T/e3d3d3d3tP97d3d3d3e0/3t3d3d3d7T/e3d3d3d3tP7lkCNbR5u0/uWQI1tHm7T+5ZAjW0ebtP++999577+0/ft/3fd/37T8AAAAAAADuPwAAAAAAAO4/ED744IMP7j+K9EDl7BbuP4r0QOXsFu4/ivRA5ewW7j+K9EDl7BbuPx4eHh4eHu4/Hh4eHh4e7j8eHh4eHh7uPx4eHh4eHu4/Hh4eHh4e7j8eHh4eHh7uPx4eHh4eHu4/Hh4eHh4e7j8eHh4eHh7uPx4eHh4eHu4/Hh4eHh4e7j8eHh4eHh7uP+JnlPgZJe4/4meU+Bkl7j/iZ5T4GSXuP+JnlPgZJe4/4meU+Bkl7j++4iu+4ivuP47jOI7jOO4/juM4juM47j+O4ziO4zjuP/Ljx48fP+4/8uPHjx8/7j/y48ePHz/uP/Ljx48fP+4/8uPHjx8/7j/y48ePHz/uP/Ljx48fP+4/U+SzbjBF7j9LfrHkF0vuP0t+seQXS+4/S36x5BdL7j8N5TWU11DuP77lW77lW+4/vuVbvuVb7j++5Vu+5VvuP77lW77lW+4/vuVbvuVb7j++5Vu+5VvuP77lW77lW+4/vuVbvuVb7j+e53me53nuP57neZ7nee4/nud5nud57j+MLrrooovuP+pNb3rTm+4/uB6F61G47j9P7MRO7MTuP0/sxE7sxO4/Ce0ltJfQ7j/WvmHtG9buP9a+Ye0b1u4/1r5h7RvW7j/WvmHtG9buP9a+Ye0b1u4/1r5h7RvW7j/WvmHtG9buP9a+Ye0b1u4/1r5h7RvW7j/WvmHtG9buP9a+Ye0b1u4/1r5h7RvW7j/WvmHtG9buP9a+Ye0b1u4/1r5h7RvW7j/WvmHtG9buP9a+Ye0b1u4/1r5h7RvW7j/WvmHtG9buP9a+Ye0b1u4/1r5h7RvW7j/WvmHtG9buP9a+Ye0b1u4/1r5h7RvW7j/WvmHtG9buP9a+Ye0b1u4/1r5h7RvW7j/WvmHtG9buP9a+Ye0b1u4/1r5h7RvW7j/WvmHtG9buP9a+Ye0b1u4/t23btm3b7j+3bdu2bdvuP0dY7mmE5e4/R1juaYTl7j+PrQgaTuruP4+tCBpO6u4/j60IGk7q7j+PrQgaTuruP+/u7u7u7u4/7+7u7u7u7j9cMgTraPPuP/jee++99+4/v+/7vu/77j8AAAAAAADvPwAAAAAAAO8/AAAAAAAA7z8AAAAAAADvPwAAAAAAAO8/AAAAAAAA7z8AAAAAAADvPwAAAAAAAO8/AAAAAAAA7z8AAAAAAADvPwAAAAAAAO8/AAAAAAAA7z8AAAAAAADvPwAAAAAAAO8/AAAAAAAA7z8AAAAAAADvPwAAAAAAAO8/AAAAAAAA7z8AAAAAAADvPwAAAAAAAO8/AAAAAAAA7z8AAAAAAADvPwAAAAAAAO8/AAAAAAAA7z8AAAAAAADvPwAAAAAAAO8/AAAAAAAA7z8AAAAAAADvPwAAAAAAAO8/AAAAAAAA7z8AAAAAAADvPwAAAAAAAO8/AAAAAAAA7z8AAAAAAADvPwAAAAAAAO8/AAAAAAAA7z8AAAAAAADvPwAAAAAAAO8/AAAAAAAA7z8AAAAAAADvPwAAAAAAAO8/AAAAAAAA7z8AAAAAAADvPwAAAAAAAO8/AAAAAAAA7z8AAAAAAADvPwAAAAAAAO8/AAAAAAAA7z8=\"},\"shape\":[1000],\"dtype\":\"float64\",\"order\":\"little\"}]]}}},\"view\":{\"type\":\"object\",\"name\":\"CDSView\",\"id\":\"p1094\",\"attributes\":{\"filter\":{\"type\":\"object\",\"name\":\"AllIndices\",\"id\":\"p1095\"}}},\"glyph\":{\"type\":\"object\",\"name\":\"Scatter\",\"id\":\"p1090\",\"attributes\":{\"x\":{\"type\":\"field\",\"field\":\"x\"},\"y\":{\"type\":\"field\",\"field\":\"y\"},\"line_color\":{\"type\":\"value\",\"value\":\"green\"},\"fill_color\":{\"type\":\"value\",\"value\":\"green\"},\"hatch_color\":{\"type\":\"value\",\"value\":\"green\"}}},\"nonselection_glyph\":{\"type\":\"object\",\"name\":\"Scatter\",\"id\":\"p1091\",\"attributes\":{\"x\":{\"type\":\"field\",\"field\":\"x\"},\"y\":{\"type\":\"field\",\"field\":\"y\"},\"line_color\":{\"type\":\"value\",\"value\":\"green\"},\"line_alpha\":{\"type\":\"value\",\"value\":0.1},\"fill_color\":{\"type\":\"value\",\"value\":\"green\"},\"fill_alpha\":{\"type\":\"value\",\"value\":0.1},\"hatch_color\":{\"type\":\"value\",\"value\":\"green\"},\"hatch_alpha\":{\"type\":\"value\",\"value\":0.1}}},\"muted_glyph\":{\"type\":\"object\",\"name\":\"Scatter\",\"id\":\"p1092\",\"attributes\":{\"x\":{\"type\":\"field\",\"field\":\"x\"},\"y\":{\"type\":\"field\",\"field\":\"y\"},\"line_color\":{\"type\":\"value\",\"value\":\"green\"},\"line_alpha\":{\"type\":\"value\",\"value\":0.2},\"fill_color\":{\"type\":\"value\",\"value\":\"green\"},\"fill_alpha\":{\"type\":\"value\",\"value\":0.2},\"hatch_color\":{\"type\":\"value\",\"value\":\"green\"},\"hatch_alpha\":{\"type\":\"value\",\"value\":0.2}}}}},{\"type\":\"object\",\"name\":\"GlyphRenderer\",\"id\":\"p1102\",\"attributes\":{\"data_source\":{\"type\":\"object\",\"name\":\"ColumnDataSource\",\"id\":\"p1096\",\"attributes\":{\"selected\":{\"type\":\"object\",\"name\":\"Selection\",\"id\":\"p1097\",\"attributes\":{\"indices\":[],\"line_indices\":[]}},\"selection_policy\":{\"type\":\"object\",\"name\":\"UnionRenderers\",\"id\":\"p1098\"},\"data\":{\"type\":\"map\",\"entries\":[[\"x\",{\"type\":\"ndarray\",\"array\":{\"type\":\"bytes\",\"data\":\"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\"},\"shape\":[1000],\"dtype\":\"float64\",\"order\":\"little\"}],[\"y\",{\"type\":\"ndarray\",\"array\":{\"type\":\"bytes\",\"data\":\"ZCELWchCtj9kIQtZyEK2P2QhC1nIQrY/ZCELWchCtj9kIQtZyEK2P2QhC1nIQrY/ZCELWchCtj9kIQtZyEK2P2QhC1nIQrY/ZCELWchCtj9kIQtZyEK2P2QhC1nIQrY/ZCELWchCtj9kIQtZyEK2P2QhC1nIQrY/ZCELWchCtj9kIQtZyEK2P2QhC1nIQrY/ZCELWchCtj9kIQtZyEK2P2QhC1nIQrY/ZCELWchCtj9kIQtZyEK2P2QhC1nIQrY/ZCELWchCtj9kIQtZyEK2P2QhC1nIQrY/ZCELWchCtj9kIQtZyEK2P2QhC1nIQrY/ZCELWchCtj9kIQtZyEK2P2QhC1nIQrY/ZCELWchCtj9kIQtZyEK2P2QhC1nIQrY/ZCELWchCtj9kIQtZyEK2P2QhC1nIQrY/ZCELWchCtj9kIQtZyEK2P2QhC1nIQrY/ZCELWchCtj9kIQtZyEK2P2QhC1nIQrY/ZCELWchCtj9kIQtZyEK2P2QhC1nIQrY/ZCELWchCtj9kIQtZyEK2P2QhC1nIQrY/ZCELWchCtj9kIQtZyEK2P2QhC1nIQrY/ZCELWchCtj9kIQtZyEK2P2QhC1nIQrY/ZCELWchCtj9kIQtZyEK2P2QhC1nIQrY/ZCELWchCtj9kIQtZyEK2P2QhC1nIQrY/ZCELWchCtj9kIQtZyEK2P2QhC1nIQrY/ZCELWchCtj9kIQtZyEK2P2QhC1nIQrY/ZCELWchCtj9kIQtZyEK2P2QhC1nIQrY/ZCELWchCtj9kIQtZyEK2P2QhC1nIQrY/ZCELWchCtj9kIQtZyEK2P2QhC1nIQrY/ZCELWchCtj9kIQtZyEK2P2QhC1nIQrY/ZCELWchCtj9kIQtZyEK2P2QhC1nIQrY/ZCELWchCtj9kIQtZyEK2P2QhC1nIQrY/ZCELWchCtj9kIQtZyEK2P2QhC1nIQrY/ZCELWchCtj9kIQtZyEK2P2QhC1nIQrY/ZCELWchCtj9kIQtZyEK2P2QhC1nIQrY/ZCELWchCtj9kIQtZyEK2P2QhC1nIQrY/ZCELWchCtj9kIQtZyEK2P2QhC1nIQrY/ZCELWchCtj9kIQtZyEK2P2QhC1nIQrY/ZCELWchCtj9kIQtZyEK2P2QhC1nIQrY/ZCELWchCtj9kIQtZyEK2P2QhC1nIQrY/ZCELWchCtj9kIQtZyEK2P2QhC1nIQrY/ZCELWchCtj9kIQtZyEK2P2QhC1nIQrY/ZCELWchCtj9kIQtZyEK2P2QhC1nIQrY/ZCELWchCtj9kIQtZyEK2P2QhC1nIQrY/ZCELWchCtj9kIQtZyEK2P2QhC1nIQrY/ZCELWchCtj9kIQtZyEK2P2QhC1nIQrY/ZCELWchCtj9kIQtZyEK2P2QhC1nIQrY/ZCELWchCtj9kIQtZyEK2P2QhC1nIQrY/ZCELWchCtj9kIQtZyEK2P0YXXXTRRbc/GIZhGIZhuD9huacRlnu6PxzHcRzHcbw/ntiJndiJvT+e2Imd2Im9P57YiZ3Yib0/uB6F61G4vj+4HoXrUbi+P7gehetRuL4/uB6F61G4vj+4HoXrUbi+P7gehetRuL4/uB6F61G4vj+4HoXrUbi+P7gehetRuL4/uB6F61G4vj+4HoXrUbi+P7gehetRuL4/uB6F61G4vj+4HoXrUbi+P7gehetRuL4/uB6F61G4vj+4HoXrUbi+P7gehetRuL4/ERERERERwT+SJEmSJEnCP5IkSZIkScI/kiRJkiRJwj+SJEmSJEnCP5IkSZIkScI/kiRJkiRJwj8UO7ETO7HDPxQ7sRM7scM/FDuxEzuxwz8UO7ETO7HDP1VVVVVVVcU/l5aWlpaWxj+XlpaWlpbGP5eWlpaWlsY/l5aWlpaWxj+XlpaWlpbGP5eWlpaWlsY/l5aWlpaWxj+XlpaWlpbGP5eWlpaWlsY/l5aWlpaWxj+amZmZmZnJP5qZmZmZmck/mpmZmZmZyT+amZmZmZnJP2G5pxGWe8o/YbmnEZZ7yj9huacRlnvKP2G5pxGWe8o/YbmnEZZ7yj9huacRlnvKP2G5pxGWe8o/27Zt27Ztyz/btm3btm3LP9u2bdu2bcs/HMdxHMdxzD8cx3Ecx3HMPxdddNFFF80/F1100UUXzT8XXXTRRRfNPxdddNFFF80/F1100UUXzT8XXXTRRRfNPxdddNFFF80/F1100UUXzT8XXXTRRRfNPxdddNFFF80/F1100UUXzT8XXXTRRRfNPxdddNFFF80/F1100UUXzT9xR9wRd8TNP3FH3BF3xM0/cUfcEXfEzT9xR9wRd8TNP3FH3BF3xM0/cUfcEXfEzT9xR9wRd8TNP3FH3BF3xM0/cUfcEXfEzT9xR9wRd8TNP3FH3BF3xM0/cUfcEXfEzT9xR9wRd8TNPw3lNZTXUM4/DeU1lNdQzj8N5TWU11DOPw3lNZTXUM4/DeU1lNdQzj8N5TWU11DOPw3lNZTXUM4/DeU1lNdQzj8N5TWU11DOPw3lNZTXUM4/DeU1lNdQzj8N5TWU11DOPw3lNZTXUM4/DeU1lNdQzj8N5TWU11DOPw3lNZTXUM4/DeU1lNdQzj8N5TWU11DOPw3lNZTXUM4/DeU1lNdQzj8N5TWU11DOPw3lNZTXUM4/DeU1lNdQzj8N5TWU11DOPw3lNZTXUM4/DeU1lNdQzj8N5TWU11DOPw3lNZTXUM4/DeU1lNdQzj8N5TWU11DOPw3lNZTXUM4/DeU1lNdQzj8N5TWU11DOPw3lNZTXUM4/DeU1lNdQzj8N5TWU11DOPw3lNZTXUM4/DeU1lNdQzj8N5TWU11DOPw3lNZTXUM4/DeU1lNdQzj+4HoXrUbjOP7gehetRuM4/uB6F61G4zj+4HoXrUbjOP7gehetRuM4/uB6F61G4zj+4HoXrUbjOP7gehetRuM4/uB6F61G4zj8AAAAAAADQPwAAAAAAANA/ewntJbSX0D97Ce0ltJfQP3sJ7SW0l9A/ewntJbSX0D97Ce0ltJfQP3sJ7SW0l9A/ewntJbSX0D97Ce0ltJfQP3kN5TWU19A/eQ3lNZTX0D95DeU1lNfQPxEREREREdE/ERERERER0T8RERERERHRPxEREREREdE/ERERERER0T8RERERERHRPxEREREREdE/dNFFF1100T8zMzMzMzPTPzMzMzMzM9M/MzMzMzMz0z9VVVVVVVXVP1VVVVVVVdU/VVVVVVVV1T9VVVVVVVXVP1VVVVVVVdU/mpmZmZmZ2T+amZmZmZnZP5qZmZmZmdk/mpmZmZmZ2T+amZmZmZnZP97d3d3d3d0/3t3d3d3d3T8AAAAAAADgPwAAAAAAAOA/AAAAAAAA4D8AAAAAAADgPwAAAAAAAOA/AAAAAAAA4D8AAAAAAADgPwAAAAAAAOA/AAAAAAAA4D8AAAAAAADgPwAAAAAAAOA/AAAAAAAA4D8AAAAAAADgPwAAAAAAAOA/AAAAAAAA4D/RC73QC73gP9ELvdALveA/0Qu90Au94D/RC73QC73gP9ELvdALveA/0Qu90Au94D/RC73QC73gP9ELvdALveA/0Qu90Au94D/RC73QC73gP9ELvdALveA/0Qu90Au94D/RC73QC73gP9ELvdALveA/0Qu90Au94D/RC73QC73gP9ELvdALveA/0Qu90Au94D/RC73QC73gP9ELvdALveA/0Qu90Au94D/RC73QC73gP9ELvdALveA/0Qu90Au94D/RC73QC73gP9ELvdALveA/0Qu90Au94D/RC73QC73gP9ELvdALveA/0Qu90Au94D/RC73QC73gP9ELvdALveA/0Qu90Au94D/RC73QC73gP9ELvdALveA/0Qu90Au94D/RC73QC73gP9ELvdALveA/0Qu90Au94D/RC73QC73gP9ELvdALveA/0Qu90Au94D/RC73QC73gP9ELvdALveA/0Qu90Au94D/RC73QC73gP9ELvdALveA/0Qu90Au94D/RC73QC73gP9ELvdALveA/0Qu90Au94D/RC73QC73gP9ELvdALveA/0Qu90Au94D/RC73QC73gP9ELvdALveA/0Qu90Au94D/RC73QC73gP9ELvdALveA/0Qu90Au94D/RC73QC73gP9ELvdALveA/0Qu90Au94D/RC73QC73gP9ELvdALveA/0Qu90Au94D/RC73QC73gP9ELvdALveA/0Qu90Au94D/RC73QC73gP9ELvdALveA/0Qu90Au94D/RC73QC73gP9ELvdALveA/0Qu90Au94D/RC73QC73gP9ELvdALveA/0Qu90Au94D/RC73QC73gP9ELvdALveA/0Qu90Au94D/RC73QC73gP9ELvdALveA/0Qu90Au94D/RC73QC73gP9ELvdALveA/0Qu90Au94D/RC73QC73gP9ELvdALveA/0Qu90Au94D/RC73QC73gP9ELvdALveA/0Qu90Au94D/RC73QC73gP9ELvdALveA/0Qu90Au94D/RC73QC73gP9ELvdALveA/0Qu90Au94D/RC73QC73gP9ELvdALveA/0Qu90Au94D/RC73QC73gP9ELvdALveA/0Qu90Au94D/RC73QC73gP9ELvdALveA/0Qu90Au94D/RC73QC73gP9ELvdALveA/0Qu90Au94D/RC73QC73gP9ELvdALveA/0Qu90Au94D/RC73QC73gP9ELvdALveA/0Qu90Au94D/RC73QC73gP9ELvdALveA/0Qu90Au94D/RC73QC73gP9ELvdALveA/0Qu90Au94D/RC73QC73gP9ELvdALveA/0Qu90Au94D/RC73QC73gP9ELvdALveA/0Qu90Au94D/RC73QC73gP9ELvdALveA/0Qu90Au94D/RC73QC73gP9ELvdALveA/0Qu90Au94D/RC73QC73gP9ELvdALveA/0Qu90Au94D/RC73QC73gP9ELvdALveA/0Qu90Au94D/RC73QC73gP9ELvdALveA/0Qu90Au94D/RC73QC73gP9ELvdALveA/0Qu90Au94D/RC73QC73gP9ELvdALveA/0Qu90Au94D/RC73QC73gP9ELvdALveA/0Qu90Au94D/RC73QC73gP9ELvdALveA/0Qu90Au94D/RC73QC73gP9ELvdALveA/0Qu90Au94D/RC73QC73gP9ELvdALveA/0Qu90Au94D/RC73QC73gP9ELvdALveA/0Qu90Au94D/RC73QC73gP9ELvdALveA/0Qu90Au94D/RC73QC73gP9ELvdALveA/0Qu90Au94D/RC73QC73gP9ELvdALveA/0Qu90Au94D/RC73QC73gP9ELvdALveA/0Qu90Au94D/RC73QC73gP9ELvdALveA/0Qu90Au94D/RC73QC73gP9ELvdALveA/0Qu90Au94D/RC73QC73gP9ELvdALveA/0Qu90Au94D/RC73QC73gP9ELvdALveA/0Qu90Au94D/RC73QC73gP9ELvdALveA/0Qu90Au94D/RC73QC73gP9ELvdALveA/0Qu90Au94D/RC73QC73gP9ELvdALveA/0Qu90Au94D/RC73QC73gP9ELvdALveA/0Qu90Au94D/RC73QC73gP9ELvdALveA/0Qu90Au94D/RC73QC73gP9ELvdALveA/0Qu90Au94D/RC73QC73gP9ELvdALveA/0Qu90Au94D/RC73QC73gP9ELvdALveA/0Qu90Au94D/RC73QC73gP9ELvdALveA/0Qu90Au94D/RC73QC73gP9ELvdALveA/0Qu90Au94D/RC73QC73gP9ELvdALveA/0Qu90Au94D/RC73QC73gP9ELvdALveA/0Qu90Au94D/RC73QC73gP9ELvdALveA/0Qu90Au94D/RC73QC73gP9ELvdALveA/0Qu90Au94D/RC73QC73gP9ELvdALveA/0Qu90Au94D/RC73QC73gP9ELvdALveA/0Qu90Au94D/RC73QC73gP9ELvdALveA/0Qu90Au94D/RC73QC73gP9ELvdALveA/0Qu90Au94D/RC73QC73gP9ELvdALveA/0Qu90Au94D/RC73QC73gP9ELvdALveA/0Qu90Au94D/RC73QC73gP9ELvdALveA/0Qu90Au94D/RC73QC73gP9ELvdALveA/0Qu90Au94D/RC73QC73gP9ELvdALveA/0Qu90Au94D/RC73QC73gP9ELvdALveA/0Qu90Au94D/RC73QC73gP9ELvdALveA/0Qu90Au94D/RC73QC73gP9ELvdALveA/0Qu90Au94D/RC73QC73gP9ELvdALveA/0Qu90Au94D/RC73QC73gP9ELvdALveA/0Qu90Au94D/RC73QC73gP9ELvdALveA/0Qu90Au94D/RC73QC73gP9ELvdALveA/0Qu90Au94D/RC73QC73gP9ELvdALveA/0Qu90Au94D/RC73QC73gP9ELvdALveA/0Qu90Au94D/RC73QC73gP9ELvdALveA/0Qu90Au94D/RC73QC73gP9ELvdALveA/0Qu90Au94D/RC73QC73gP9ELvdALveA/0Qu90Au94D/zLd/yLd/iP/Mt3/It3+I/8y3f8i3f4j/zLd/yLd/iP/Mt3/It3+I/8y3f8i3f4j/zLd/yLd/iP/Mt3/It3+I/8y3f8i3f4j/zLd/yLd/iP/Mt3/It3+I/8y3f8i3f4j/zLd/yLd/iP/Mt3/It3+I/8y3f8i3f4j/zLd/yLd/iP/Mt3/It3+I/8y3f8i3f4j/zLd/yLd/iP/Mt3/It3+I/8y3f8i3f4j/zLd/yLd/iP/Mt3/It3+I/8y3f8i3f4j/zLd/yLd/iP/Mt3/It3+I/8y3f8i3f4j/zLd/yLd/iP2gvob2E9uI/aC+hvYT24j9oL6G9hPbiP2gvob2E9uI/aC+hvYT24j9oL6G9hPbiP2gvob2E9uI/aC+hvYT24j9oL6G9hPbiP2gvob2E9uI/aC+hvYT24j9oL6G9hPbiP2gvob2E9uI/aC+hvYT24j9oL6G9hPbiP2gvob2E9uI/aC+hvYT24j9oL6G9hPbiP2gvob2E9uI/aC+hvYT24j9oL6G9hPbiP2gvob2E9uI/aC+hvYT24j9oL6G9hPbiP2gvob2E9uI/aC+hvYT24j9oL6G9hPbiP2gvob2E9uI/aC+hvYT24j9oL6G9hPbiP2gvob2E9uI/aC+hvYT24j9oL6G9hPbiP2gvob2E9uI/aC+hvYT24j9oL6G9hPbiP2gvob2E9uI/AAAAAAAA5D8AAAAAAADkPwAAAAAAAOQ/AAAAAAAA5D8AAAAAAADkPwAAAAAAAOQ/AAAAAAAA5D8AAAAAAADkPwAAAAAAAOg/AAAAAAAA6D8AAAAAAADoPwAAAAAAAOg/AAAAAAAA6D/btm3btm3rP9u2bdu2bes/27Zt27Zt6z/btm3btm3rP9u2bdu2bes/27Zt27Zt6z/btm3btm3rP9u2bdu2bes/27Zt27Zt6z/btm3btm3rP9u2bdu2bes/27Zt27Zt6z/btm3btm3rP9u2bdu2bes/27Zt27Zt6z/btm3btm3rP9u2bdu2bes/27Zt27Zt6z/btm3btm3rP9u2bdu2bes/27Zt27Zt6z/btm3btm3rP9u2bdu2bes/27Zt27Zt6z/btm3btm3rP9u2bdu2bes/27Zt27Zt6z/btm3btm3rP77lW77lW+4/vuVbvuVb7j++5Vu+5VvuP77lW77lW+4/vuVbvuVb7j++5Vu+5VvuP77lW77lW+4/vuVbvuVb7j++5Vu+5VvuP77lW77lW+4/vuVbvuVb7j++5Vu+5VvuP77lW77lW+4/vuVbvuVb7j++5Vu+5VvuP77lW77lW+4/vuVbvuVb7j++5Vu+5VvuP77lW77lW+4/vuVbvuVb7j++5Vu+5VvuP77lW77lW+4/vuVbvuVb7j++5Vu+5VvuP77lW77lW+4/vuVbvuVb7j++5Vu+5VvuP77lW77lW+4/vuVbvuVb7j++5Vu+5VvuP77lW77lW+4/vuVbvuVb7j++5Vu+5VvuP77lW77lW+4/vuVbvuVb7j++5Vu+5VvuP77lW77lW+4/vuVbvuVb7j++5Vu+5VvuP77lW77lW+4/vuVbvuVb7j++5Vu+5VvuP77lW77lW+4/vuVbvuVb7j++5Vu+5VvuP77lW77lW+4/vuVbvuVb7j++5Vu+5VvuP77lW77lW+4/vuVbvuVb7j++5Vu+5VvuP77lW77lW+4/vuVbvuVb7j++5Vu+5VvuP77lW77lW+4/vuVbvuVb7j++5Vu+5VvuP77lW77lW+4/vuVbvuVb7j+e53me53nuP57neZ7nee4/nud5nud57j+e53me53nuP57neZ7nee4/nud5nud57j+e53me53nuP57neZ7nee4/nud5nud57j+e53me53nuP57neZ7nee4/nud5nud57j+e53me53nuP57neZ7nee4/nud5nud57j+e53me53nuP57neZ7nee4/nud5nud57j+e53me53nuP57neZ7nee4/nud5nud57j+e53me53nuP57neZ7nee4/nud5nud57j+e53me53nuP57neZ7nee4/nud5nud57j+e53me53nuP57neZ7nee4/nud5nud57j+e53me53nuP57neZ7nee4/nud5nud57j+e53me53nuP57neZ7nee4/nud5nud57j+e53me53nuP57neZ7nee4/nud5nud57j+e53me53nuP57neZ7nee4/nud5nud57j+e53me53nuP57neZ7nee4/nud5nud57j+e53me53nuP2vfsPYNa+8/a9+w9g1r7z9r37D2DWvvP2vfsPYNa+8/a9+w9g1r7z9r37D2DWvvP2vfsPYNa+8/a9+w9g1r7z9r37D2DWvvP2vfsPYNa+8/a9+w9g1r7z9r37D2DWvvP2vfsPYNa+8/a9+w9g1r7z9r37D2DWvvP2vfsPYNa+8/a9+w9g1r7z9r37D2DWvvP2vfsPYNa+8/a9+w9g1r7z9r37D2DWvvP2vfsPYNa+8/a9+w9g1r7z9r37D2DWvvP2vfsPYNa+8/a9+w9g1r7z9r37D2DWvvP2vfsPYNa+8/a9+w9g1r7z9r37D2DWvvP2vfsPYNa+8/a9+w9g1r7z9r37D2DWvvP2vfsPYNa+8/a9+w9g1r7z9r37D2DWvvP2vfsPYNa+8/a9+w9g1r7z9r37D2DWvvP2vfsPYNa+8/a9+w9g1r7z9r37D2DWvvP2vfsPYNa+8/a9+w9g1r7z9r37D2DWvvP2vfsPYNa+8/a9+w9g1r7z9r37D2DWvvP2vfsPYNa+8/a9+w9g1r7z9r37D2DWvvP2vfsPYNa+8/a9+w9g1r7z9r37D2DWvvP2vfsPYNa+8/a9+w9g1r7z9r37D2DWvvP2vfsPYNa+8/a9+w9g1r7z9r37D2DWvvP2vfsPYNa+8/a9+w9g1r7z9r37D2DWvvP2vfsPYNa+8/a9+w9g1r7z9r37D2DWvvP2vfsPYNa+8/a9+w9g1r7z9r37D2DWvvP2vfsPYNa+8/a9+w9g1r7z9r37D2DWvvP2vfsPYNa+8/a9+w9g1r7z9r37D2DWvvP2vfsPYNa+8/a9+w9g1r7z9r37D2DWvvP2vfsPYNa+8/a9+w9g1r7z9r37D2DWvvP2vfsPYNa+8/a9+w9g1r7z9r37D2DWvvP2vfsPYNa+8/a9+w9g1r7z9r37D2DWvvP2vfsPYNa+8/a9+w9g1r7z9r37D2DWvvP2vfsPYNa+8/a9+w9g1r7z9r37D2DWvvP2vfsPYNa+8/a9+w9g1r7z9r37D2DWvvP2vfsPYNa+8/a9+w9g1r7z9r37D2DWvvP2vfsPYNa+8/a9+w9g1r7z9r37D2DWvvP2vfsPYNa+8/a9+w9g1r7z9r37D2DWvvP2vfsPYNa+8/AAAAAAAA8D8AAAAAAADwPwAAAAAAAPA/AAAAAAAA8D8AAAAAAADwPwAAAAAAAPA/AAAAAAAA8D8AAAAAAADwPwAAAAAAAPA/AAAAAAAA8D8AAAAAAADwPwAAAAAAAPA/AAAAAAAA8D8AAAAAAADwPwAAAAAAAPA/AAAAAAAA8D8AAAAAAADwPwAAAAAAAPA/AAAAAAAA8D8AAAAAAADwPwAAAAAAAPA/AAAAAAAA8D8AAAAAAADwPwAAAAAAAPA/AAAAAAAA8D8AAAAAAADwPwAAAAAAAPA/AAAAAAAA8D8AAAAAAADwPwAAAAAAAPA/AAAAAAAA8D8AAAAAAADwPwAAAAAAAPA/AAAAAAAA8D8AAAAAAADwPwAAAAAAAPA/AAAAAAAA8D8AAAAAAADwPwAAAAAAAPA/AAAAAAAA8D8AAAAAAADwPwAAAAAAAPA/AAAAAAAA8D8AAAAAAADwPwAAAAAAAPA/AAAAAAAA8D8AAAAAAADwPwAAAAAAAPA/AAAAAAAA8D8AAAAAAADwPwAAAAAAAPA/AAAAAAAA8D8AAAAAAADwPwAAAAAAAPA/AAAAAAAA8D8AAAAAAADwPwAAAAAAAPA/AAAAAAAA8D8AAAAAAADwPwAAAAAAAPA/AAAAAAAA8D8=\"},\"shape\":[1000],\"dtype\":\"float64\",\"order\":\"little\"}]]}}},\"view\":{\"type\":\"object\",\"name\":\"CDSView\",\"id\":\"p1103\",\"attributes\":{\"filter\":{\"type\":\"object\",\"name\":\"AllIndices\",\"id\":\"p1104\"}}},\"glyph\":{\"type\":\"object\",\"name\":\"Scatter\",\"id\":\"p1099\",\"attributes\":{\"x\":{\"type\":\"field\",\"field\":\"x\"},\"y\":{\"type\":\"field\",\"field\":\"y\"},\"line_color\":{\"type\":\"value\",\"value\":\"red\"},\"fill_color\":{\"type\":\"value\",\"value\":\"red\"},\"hatch_color\":{\"type\":\"value\",\"value\":\"red\"}}},\"nonselection_glyph\":{\"type\":\"object\",\"name\":\"Scatter\",\"id\":\"p1100\",\"attributes\":{\"x\":{\"type\":\"field\",\"field\":\"x\"},\"y\":{\"type\":\"field\",\"field\":\"y\"},\"line_color\":{\"type\":\"value\",\"value\":\"red\"},\"line_alpha\":{\"type\":\"value\",\"value\":0.1},\"fill_color\":{\"type\":\"value\",\"value\":\"red\"},\"fill_alpha\":{\"type\":\"value\",\"value\":0.1},\"hatch_color\":{\"type\":\"value\",\"value\":\"red\"},\"hatch_alpha\":{\"type\":\"value\",\"value\":0.1}}},\"muted_glyph\":{\"type\":\"object\",\"name\":\"Scatter\",\"id\":\"p1101\",\"attributes\":{\"x\":{\"type\":\"field\",\"field\":\"x\"},\"y\":{\"type\":\"field\",\"field\":\"y\"},\"line_color\":{\"type\":\"value\",\"value\":\"red\"},\"line_alpha\":{\"type\":\"value\",\"value\":0.2},\"fill_color\":{\"type\":\"value\",\"value\":\"red\"},\"fill_alpha\":{\"type\":\"value\",\"value\":0.2},\"hatch_color\":{\"type\":\"value\",\"value\":\"red\"},\"hatch_alpha\":{\"type\":\"value\",\"value\":0.2}}}}},{\"type\":\"object\",\"name\":\"GlyphRenderer\",\"id\":\"p1111\",\"attributes\":{\"data_source\":{\"type\":\"object\",\"name\":\"ColumnDataSource\",\"id\":\"p1105\",\"attributes\":{\"selected\":{\"type\":\"object\",\"name\":\"Selection\",\"id\":\"p1106\",\"attributes\":{\"indices\":[],\"line_indices\":[]}},\"selection_policy\":{\"type\":\"object\",\"name\":\"UnionRenderers\",\"id\":\"p1107\"},\"data\":{\"type\":\"map\",\"entries\":[[\"x\",{\"type\":\"ndarray\",\"array\":{\"type\":\"bytes\",\"data\":\"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\"},\"shape\":[220],\"dtype\":\"float64\",\"order\":\"little\"}],[\"y\",{\"type\":\"ndarray\",\"array\":{\"type\":\"bytes\",\"data\":\"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\"},\"shape\":[220],\"dtype\":\"float64\",\"order\":\"little\"}]]}}},\"view\":{\"type\":\"object\",\"name\":\"CDSView\",\"id\":\"p1112\",\"attributes\":{\"filter\":{\"type\":\"object\",\"name\":\"AllIndices\",\"id\":\"p1113\"}}},\"glyph\":{\"type\":\"object\",\"name\":\"Line\",\"id\":\"p1108\",\"attributes\":{\"x\":{\"type\":\"field\",\"field\":\"x\"},\"y\":{\"type\":\"field\",\"field\":\"y\"},\"line_color\":\"blue\"}},\"nonselection_glyph\":{\"type\":\"object\",\"name\":\"Line\",\"id\":\"p1109\",\"attributes\":{\"x\":{\"type\":\"field\",\"field\":\"x\"},\"y\":{\"type\":\"field\",\"field\":\"y\"},\"line_color\":\"blue\",\"line_alpha\":0.1}},\"muted_glyph\":{\"type\":\"object\",\"name\":\"Line\",\"id\":\"p1110\",\"attributes\":{\"x\":{\"type\":\"field\",\"field\":\"x\"},\"y\":{\"type\":\"field\",\"field\":\"y\"},\"line_color\":\"blue\",\"line_alpha\":0.2}}}}],\"toolbar\":{\"type\":\"object\",\"name\":\"Toolbar\",\"id\":\"p1063\",\"attributes\":{\"tools\":[{\"type\":\"object\",\"name\":\"PanTool\",\"id\":\"p1076\"},{\"type\":\"object\",\"name\":\"WheelZoomTool\",\"id\":\"p1077\",\"attributes\":{\"renderers\":\"auto\"}},{\"type\":\"object\",\"name\":\"BoxZoomTool\",\"id\":\"p1078\",\"attributes\":{\"overlay\":{\"type\":\"object\",\"name\":\"BoxAnnotation\",\"id\":\"p1079\",\"attributes\":{\"syncable\":false,\"level\":\"overlay\",\"visible\":false,\"left\":{\"type\":\"number\",\"value\":\"nan\"},\"right\":{\"type\":\"number\",\"value\":\"nan\"},\"top\":{\"type\":\"number\",\"value\":\"nan\"},\"bottom\":{\"type\":\"number\",\"value\":\"nan\"},\"left_units\":\"canvas\",\"right_units\":\"canvas\",\"top_units\":\"canvas\",\"bottom_units\":\"canvas\",\"line_color\":\"black\",\"line_alpha\":1.0,\"line_width\":2,\"line_dash\":[4,4],\"fill_color\":\"lightgrey\",\"fill_alpha\":0.5}}}},{\"type\":\"object\",\"name\":\"SaveTool\",\"id\":\"p1084\"},{\"type\":\"object\",\"name\":\"ResetTool\",\"id\":\"p1085\"},{\"type\":\"object\",\"name\":\"HelpTool\",\"id\":\"p1086\"}]}},\"left\":[{\"type\":\"object\",\"name\":\"LinearAxis\",\"id\":\"p1071\",\"attributes\":{\"ticker\":{\"type\":\"object\",\"name\":\"BasicTicker\",\"id\":\"p1072\",\"attributes\":{\"mantissas\":[1,2,5]}},\"formatter\":{\"type\":\"object\",\"name\":\"BasicTickFormatter\",\"id\":\"p1073\"},\"major_label_policy\":{\"type\":\"object\",\"name\":\"AllLabels\",\"id\":\"p1074\"}}}],\"below\":[{\"type\":\"object\",\"name\":\"LinearAxis\",\"id\":\"p1066\",\"attributes\":{\"ticker\":{\"type\":\"object\",\"name\":\"BasicTicker\",\"id\":\"p1067\",\"attributes\":{\"mantissas\":[1,2,5]}},\"formatter\":{\"type\":\"object\",\"name\":\"BasicTickFormatter\",\"id\":\"p1068\"},\"major_label_policy\":{\"type\":\"object\",\"name\":\"AllLabels\",\"id\":\"p1069\"}}}],\"center\":[{\"type\":\"object\",\"name\":\"Grid\",\"id\":\"p1070\",\"attributes\":{\"axis\":{\"id\":\"p1066\"}}},{\"type\":\"object\",\"name\":\"Grid\",\"id\":\"p1075\",\"attributes\":{\"dimension\":1,\"axis\":{\"id\":\"p1071\"}}}]}}]}};\n",
       "  const render_items = [{\"docid\":\"3f876c4c-10fc-4f1f-a16a-3d4b87621418\",\"roots\":{\"p1055\":\"e9a70ef4-b170-4fec-befc-d30f3a314b24\"},\"root_ids\":[\"p1055\"]}];\n",
       "  root.Bokeh.embed.embed_items_notebook(docs_json, render_items);\n",
       "  }\n",
       "  if (root.Bokeh !== undefined) {\n",
       "    embed_document(root);\n",
       "  } else {\n",
       "    let attempts = 0;\n",
       "    const timer = setInterval(function(root) {\n",
       "      if (root.Bokeh !== undefined) {\n",
       "        clearInterval(timer);\n",
       "        embed_document(root);\n",
       "      } else {\n",
       "        attempts++;\n",
       "        if (attempts > 100) {\n",
       "          clearInterval(timer);\n",
       "          console.log(\"Bokeh: ERROR: Unable to run BokehJS code because BokehJS library is missing\");\n",
       "        }\n",
       "      }\n",
       "    }, 10, root)\n",
       "  }\n",
       "})(window);"
      ],
      "application/vnd.bokehjs_exec.v0+json": ""
     },
     "metadata": {
      "application/vnd.bokehjs_exec.v0+json": {
       "id": "p1055"
      }
     },
     "output_type": "display_data"
    }
   ],
   "source": [
    "xs = np.linspace(-11,11,220)\n",
    "\n",
    "p = figure(width=600, height=600)\n",
    "p.scatter(xtest,p0d,color='green')\n",
    "p.scatter(xtest,p1d,color='red')\n",
    "p.line(xs,thr(xs),color='blue')\n",
    "show(p)"
   ]
  },
  {
   "cell_type": "markdown",
   "metadata": {},
   "source": [
    "### If this does not look too good, consider that I introduced 10% of \"adversarial\" data, namely duplicates of points with their label flipped."
   ]
  }
 ],
 "metadata": {
  "kernelspec": {
   "display_name": "Python 3 (ipykernel)",
   "language": "python",
   "name": "python3"
  },
  "language_info": {
   "codemirror_mode": {
    "name": "ipython",
    "version": 3
   },
   "file_extension": ".py",
   "mimetype": "text/x-python",
   "name": "python",
   "nbconvert_exporter": "python",
   "pygments_lexer": "ipython3",
   "version": "3.10.12"
  }
 },
 "nbformat": 4,
 "nbformat_minor": 4
}
